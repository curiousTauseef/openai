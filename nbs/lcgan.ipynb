{
 "cells": [
  {
   "cell_type": "markdown",
   "metadata": {},
   "source": [
    "https://arxiv.org/abs/1711.05772 / https://arxiv.org/abs/1802.04877\n",
    "\n",
    "https://github.com/natashamjaques/magenta/blob/affective-reward/magenta/models/affective_reward/latent_gan.py"
   ]
  },
  {
   "cell_type": "markdown",
   "metadata": {},
   "source": [
    "## Labeling data"
   ]
  },
  {
   "cell_type": "code",
   "execution_count": 1,
   "metadata": {},
   "outputs": [],
   "source": [
    "#from pdb import set_trace\n",
    "#set_trace()"
   ]
  },
  {
   "cell_type": "code",
   "execution_count": 2,
   "metadata": {},
   "outputs": [],
   "source": [
    "import numpy as np\n",
    "\n",
    "labels = np.empty([0, 2], dtype=int)\n",
    "gens_keep = np.empty([0, ], dtype=object)\n",
    "zs_keep = np.empty([0, 1, 128], dtype=float)"
   ]
  },
  {
   "cell_type": "code",
   "execution_count": 3,
   "metadata": {},
   "outputs": [
    {
     "name": "stdout",
     "output_type": "stream",
     "text": [
      "Namespace(cache_path='../../pytorch-text-vae/tmp', max_length=50, num_sample=100, print_z=False, saved_vae='../../pytorch-text-vae/reviews_sentences_state.pt', seed=None, stored_info='reviews_sentences_stored_info.pkl', temp=0.2, use_cuda=True)\n",
      "Fetching cached info at ../../pytorch-text-vae/tmp/reviews_sentences_stored_info.pkl\n",
      "Cache ../../pytorch-text-vae/tmp/reviews_sentences_stored_info.pkl loaded, total load time 0.6427538394927979\n",
      "Found saved model ../../pytorch-text-vae/reviews_sentences_state.pt\n",
      "MAX_SAMPLE: False; TRUNCATED_SAMPLE: True\n",
      "Setting new random seed\n",
      "---\n",
      "it came out in the kind my life and it along with him\n",
      "---\n",
      "take as a UNK at part of the house vocals are so perfection\n",
      "---\n",
      "inspired by the vocals and make trying to give this one accompanied by them as they instrumentation\n",
      "---\n",
      "this is taken from the mash up like this is one of this though\n",
      "---\n",
      "over the link below and are up over the dose of artist good link below\n",
      "---\n",
      "to take on a brand new single from from and she takes on a four times\n",
      "---\n",
      "UNK UNK UNK UNK even if youre listening to the likes of one and if you not her attention\n",
      "---\n",
      "its one of the electro pop sound that has away from the forthcoming full sound\n",
      "---\n",
      "continues to returns from his debut from last week and i want to create a one of electro house style\n",
      "---\n",
      "like some of artist continues to UNK and serves as one of the this year my recordings\n",
      "---\n",
      "UNK will be taken from the likes to ep in march and ive been luna\n",
      "---\n",
      "and how they take on this UNK and a perfect piece of late night\n",
      "---\n",
      "UNK with a lot so of away from the UNK and come from UNK UNK\n",
      "---\n",
      "this artist has been featured over the likes of UNK and he listening to the rest of show\n",
      "---\n",
      "UNK has teamed up with a deep house vibe that he featured on the stuck in UNK page\n",
      "---\n",
      "part of UNK UNK could been mash up under the song where i came together\n",
      "---\n",
      "artist manages UNK UNK even if youre on the vocals and trying to look to a these times\n",
      "---\n",
      "in the end of a year based producer where it has a part of of tour with its too\n",
      "---\n",
      "im a pretty me away from UNK UNK and i cant get into this past few\n",
      "---\n",
      "on UNK and reminiscent of a even when focus on the hook and alone\n",
      "---\n",
      "as a kind of so when it comes with the here and we cant perfection\n",
      "---\n",
      "that sounds like artist been thanks to the electro pop track from follow and expected to to feat\n",
      "---\n",
      "it is one of the electro pop appearing on this UNK is not to perfection\n",
      "---\n",
      "are a listening to his debut album as if you are are are known as an official verse\n",
      "---\n",
      "the piano and continues to see and he wanted to out over a few days where in love away\n",
      "---\n",
      "inspired its a listen to the UNK is just as a pretty trying to date\n",
      "---\n",
      "this UNK artist was sure to look out for the for tour\n",
      "---\n",
      "the UNK UNK UNK UNK is UNK with the UNK take on their website\n",
      "---\n",
      "inspired as part of the songs that seems in a life and addition to your perfection\n",
      "---\n",
      "the german producer artist who returns with also tribute to this managed to stuck to your mind\n",
      "---\n",
      "we cant help aka he is one as a track that anything away from us\n",
      "---\n",
      "with the kind of sound that UNK in the rest of the UNK and bass line\n",
      "---\n",
      "as such as remix of artist and along with a deep a right UNK at the new single night\n",
      "---\n",
      "were looking with a very different away in the UNK and it supposed to be themselves\n",
      "---\n",
      "UNK is taken from a UNK and serves as one of the electro new production from even more\n",
      "---\n",
      "the UNK have were inspired where the who has blown away from public alone\n",
      "---\n",
      "we were showing off a brand new and thats exactly where im quite times\n",
      "---\n",
      "UNK is one of the UNK and you trying to guest away from from where she never know\n",
      "---\n",
      "he is quite a bit of songs because they be remixed by a little feat\n",
      "---\n",
      "that have trying to teams up with a five years and artists and and live my live alone\n",
      "---\n",
      "she seems to be featured on the the UNK and was trying to talk about them or feat\n",
      "---\n",
      "a trying to sound like this but the remix of artist feels like her pop style\n",
      "---\n",
      "artist has teams up with his own track and as reminiscent of the for man himself\n",
      "---\n",
      "the track came of UNK and came up with a new track from my listens\n",
      "---\n",
      "was sure to be along to their first release of UNK and available for once again\n",
      "---\n",
      "artist weve trying to give it into a stripped down and version and artist my say\n",
      "---\n",
      "you seems to be on his new turned as a concert or feat\n",
      "---\n",
      "gearing looking for more beats and continues to new remix of what might have taken from the game\n",
      "---\n",
      "a new track what i want to take from a deep person who makes me too\n",
      "---\n",
      "a four years ago have called back in the house below i super vibes\n",
      "---\n",
      "that will be gearing along by the one of a portland and departure of their production\n",
      "---\n",
      "a dose of nyc based producer artist have been working on their new album when i look at feat\n",
      "---\n",
      "the she gets a full of drums and a and and stuck in your trying to keep your fashion\n",
      "---\n",
      "its its about the new track from artist and a trying to stripped back with his self skills\n",
      "---\n",
      "their new single was produced and now thanks to the right now and id feat\n",
      "---\n",
      "we made it with some of the songs and we got me in our past times\n",
      "---\n",
      "been a new songs of the the pretty much better than a called UNK and listen to the link below\n",
      "---\n",
      "it serves has a to take on the even if you are just right\n",
      "---\n",
      "artist is reminiscent of a departure from the UNK is eye out a feat\n",
      "---\n",
      "speaking of this UNK is taken of a UNK and i stuck in friends\n",
      "---\n",
      "in but artist ive been trying to stand out for the long as well\n",
      "---\n",
      "as been known for some departure on the UNK right now not just sonic feat\n",
      "---\n",
      "artist who have been at the aware of past year and hes such a big things\n",
      "---\n",
      "been listening to the good inspired by artist and it seems like remix of artist s classic banger\n",
      "---\n",
      "trying to come away with the UNK and artist who put one like listening to the life and look at UNK show\n",
      "---\n",
      "with a brand new single theyve gearing UNK and the electro were looking were want to get your next\n",
      "---\n",
      "UNK has been taken from the way to work in a few years and look at times\n",
      "---\n",
      "listening to the single and check out for their new single can check out\n",
      "---\n",
      "artist has managed to turned out out the track out each other times\n",
      "---\n",
      "serves with a brand the UNK is taken from the release date and date\n",
      "---\n",
      "check click here and the bit of what and don been twist on the track was fire\n",
      "---\n",
      "it was trying to teams up with the end of the year where UNK might like a little alone\n",
      "---\n",
      "might be be up with a the the track if you might be be in the be no earth\n",
      "---\n",
      "my long from an contribution to UNK UNK UNK that gearing up into a few times\n",
      "---\n",
      "we were according to a UNK and the one of their their known as releases\n",
      "---\n",
      "artist has a version of funk and and look at late night\n",
      "---\n",
      "artist has a toilet that returns that these that after all the good or alone\n",
      "---\n",
      "artist will be inspired and the remix of a track that will be remixed by author\n",
      "---\n",
      "artist has been trying to grew up in the UNK and this is one of my game\n",
      "---\n",
      "artist has been similar to the piece but when she has been trying to date\n",
      "---\n",
      "its its pretty trying can check out now via the link below and get some link below\n",
      "---\n",
      "UNK vocal reminiscent by pop and that you all the sort of things up at all times\n",
      "---\n",
      "artist has been listening to the remix of artist so if you must in store\n",
      "---\n",
      "the indie pop continues to give this track you a listen listen UNK once again\n",
      "---\n",
      "and it has been listening to the all of what we have been making this scene\n",
      "---\n",
      "UNK will be sure to take on on UNK UNK and UNK are a great remix of artist s remixes\n",
      "---\n",
      "he has been looking for our yet but for trying to make sure to the rest of what hes hes taken from his next\n",
      "---\n",
      "we have been known for their debut called UNK who manages to to it with some extra perfection\n",
      "---\n",
      "the track be inspired by UNK and a one of UNK to take by your feat\n",
      "---\n",
      "serves as a version of acoustic guitar work and i want to me in his old times\n",
      "---\n",
      "we were a bit of departure from the artist and it seems to for the first place\n",
      "---\n",
      "it comes comes with a side of last week and when you know their heels\n",
      "---\n",
      "listen to the remix of artist and his synths and for my real thing\n",
      "---\n",
      "artist is opens with a UNK and the UNK is trying and sound right away\n",
      "---\n",
      "the kind of UNK and grew plays in the end of the production where it was so end\n"
     ]
    },
    {
     "name": "stdout",
     "output_type": "stream",
     "text": [
      "---\n",
      "and we should even part of the track what you should even better\n",
      "---\n",
      "and according to this UNK was inspired with the title of its really lines\n",
      "---\n",
      "UNK aka artist has a stripped back in the sound of the sound and the sound electro perfection\n",
      "---\n",
      "just as one of acoustic UNK and and just featured in the UNK take on to date\n",
      "---\n",
      "in UNK UNK theres a new cut from your below and rather than style\n"
     ]
    }
   ],
   "source": [
    "from pathlib import Path\n",
    "vae_dir = Path('../../pytorch-text-vae') # https://github.com/iconix/pytorch-text-vae\n",
    "\n",
    "n_samples = 100\n",
    "temp = 0.2\n",
    "\n",
    "%run -i $vae_dir/generate.py $vae_dir/reviews_sentences_state.pt reviews_sentences_stored_info.pkl --cache-path=$vae_dir/tmp --num-sample=$n_samples --temp=$temp"
   ]
  },
  {
   "cell_type": "code",
   "execution_count": 4,
   "metadata": {},
   "outputs": [
    {
     "data": {
      "text/plain": [
       "[(0, 'it came out in the kind my life and it along with him'),\n",
       " (1, 'take as a UNK at part of the house vocals are so perfection'),\n",
       " (2,\n",
       "  'inspired by the vocals and make trying to give this one accompanied by them as they instrumentation'),\n",
       " (3, 'this is taken from the mash up like this is one of this though'),\n",
       " (4, 'over the link below and are up over the dose of artist good link below'),\n",
       " (5, 'to take on a brand new single from from and she takes on a four times'),\n",
       " (6,\n",
       "  'UNK UNK UNK UNK even if youre listening to the likes of one and if you not her attention'),\n",
       " (7,\n",
       "  'its one of the electro pop sound that has away from the forthcoming full sound'),\n",
       " (8,\n",
       "  'continues to returns from his debut from last week and i want to create a one of electro house style'),\n",
       " (9,\n",
       "  'like some of artist continues to UNK and serves as one of the this year my recordings'),\n",
       " (10, 'UNK will be taken from the likes to ep in march and ive been luna'),\n",
       " (11, 'and how they take on this UNK and a perfect piece of late night'),\n",
       " (12, 'UNK with a lot so of away from the UNK and come from UNK UNK'),\n",
       " (13,\n",
       "  'this artist has been featured over the likes of UNK and he listening to the rest of show'),\n",
       " (14,\n",
       "  'UNK has teamed up with a deep house vibe that he featured on the stuck in UNK page'),\n",
       " (15,\n",
       "  'part of UNK UNK could been mash up under the song where i came together'),\n",
       " (16,\n",
       "  'artist manages UNK UNK even if youre on the vocals and trying to look to a these times'),\n",
       " (17,\n",
       "  'in the end of a year based producer where it has a part of of tour with its too'),\n",
       " (18, 'im a pretty me away from UNK UNK and i cant get into this past few'),\n",
       " (19, 'on UNK and reminiscent of a even when focus on the hook and alone'),\n",
       " (20, 'as a kind of so when it comes with the here and we cant perfection'),\n",
       " (21,\n",
       "  'that sounds like artist been thanks to the electro pop track from follow and expected to to feat'),\n",
       " (22,\n",
       "  'it is one of the electro pop appearing on this UNK is not to perfection'),\n",
       " (23,\n",
       "  'are a listening to his debut album as if you are are are known as an official verse'),\n",
       " (24,\n",
       "  'the piano and continues to see and he wanted to out over a few days where in love away'),\n",
       " (25, 'inspired its a listen to the UNK is just as a pretty trying to date'),\n",
       " (26, 'this UNK artist was sure to look out for the for tour'),\n",
       " (27, 'the UNK UNK UNK UNK is UNK with the UNK take on their website'),\n",
       " (28,\n",
       "  'inspired as part of the songs that seems in a life and addition to your perfection'),\n",
       " (29,\n",
       "  'the german producer artist who returns with also tribute to this managed to stuck to your mind'),\n",
       " (30, 'we cant help aka he is one as a track that anything away from us'),\n",
       " (31, 'with the kind of sound that UNK in the rest of the UNK and bass line'),\n",
       " (32,\n",
       "  'as such as remix of artist and along with a deep a right UNK at the new single night'),\n",
       " (33,\n",
       "  'were looking with a very different away in the UNK and it supposed to be themselves'),\n",
       " (34,\n",
       "  'UNK is taken from a UNK and serves as one of the electro new production from even more'),\n",
       " (35,\n",
       "  'the UNK have were inspired where the who has blown away from public alone'),\n",
       " (36,\n",
       "  'we were showing off a brand new and thats exactly where im quite times'),\n",
       " (37,\n",
       "  'UNK is one of the UNK and you trying to guest away from from where she never know'),\n",
       " (38, 'he is quite a bit of songs because they be remixed by a little feat'),\n",
       " (39,\n",
       "  'that have trying to teams up with a five years and artists and and live my live alone'),\n",
       " (40,\n",
       "  'she seems to be featured on the the UNK and was trying to talk about them or feat'),\n",
       " (41,\n",
       "  'a trying to sound like this but the remix of artist feels like her pop style'),\n",
       " (42,\n",
       "  'artist has teams up with his own track and as reminiscent of the for man himself'),\n",
       " (43, 'the track came of UNK and came up with a new track from my listens'),\n",
       " (44,\n",
       "  'was sure to be along to their first release of UNK and available for once again'),\n",
       " (45,\n",
       "  'artist weve trying to give it into a stripped down and version and artist my say'),\n",
       " (46, 'you seems to be on his new turned as a concert or feat'),\n",
       " (47,\n",
       "  'gearing looking for more beats and continues to new remix of what might have taken from the game'),\n",
       " (48, 'a new track what i want to take from a deep person who makes me too'),\n",
       " (49, 'a four years ago have called back in the house below i super vibes'),\n",
       " (50,\n",
       "  'that will be gearing along by the one of a portland and departure of their production'),\n",
       " (51,\n",
       "  'a dose of nyc based producer artist have been working on their new album when i look at feat'),\n",
       " (52,\n",
       "  'the she gets a full of drums and a and and stuck in your trying to keep your fashion'),\n",
       " (53,\n",
       "  'its its about the new track from artist and a trying to stripped back with his self skills'),\n",
       " (54,\n",
       "  'their new single was produced and now thanks to the right now and id feat'),\n",
       " (55, 'we made it with some of the songs and we got me in our past times'),\n",
       " (56,\n",
       "  'been a new songs of the the pretty much better than a called UNK and listen to the link below'),\n",
       " (57, 'it serves has a to take on the even if you are just right'),\n",
       " (58, 'artist is reminiscent of a departure from the UNK is eye out a feat'),\n",
       " (59, 'speaking of this UNK is taken of a UNK and i stuck in friends'),\n",
       " (60, 'in but artist ive been trying to stand out for the long as well'),\n",
       " (61,\n",
       "  'as been known for some departure on the UNK right now not just sonic feat'),\n",
       " (62,\n",
       "  'artist who have been at the aware of past year and hes such a big things'),\n",
       " (63,\n",
       "  'been listening to the good inspired by artist and it seems like remix of artist s classic banger'),\n",
       " (64,\n",
       "  'trying to come away with the UNK and artist who put one like listening to the life and look at UNK show'),\n",
       " (65,\n",
       "  'with a brand new single theyve gearing UNK and the electro were looking were want to get your next'),\n",
       " (66,\n",
       "  'UNK has been taken from the way to work in a few years and look at times'),\n",
       " (67,\n",
       "  'listening to the single and check out for their new single can check out'),\n",
       " (68, 'artist has managed to turned out out the track out each other times'),\n",
       " (69, 'serves with a brand the UNK is taken from the release date and date'),\n",
       " (70,\n",
       "  'check click here and the bit of what and don been twist on the track was fire'),\n",
       " (71,\n",
       "  'it was trying to teams up with the end of the year where UNK might like a little alone'),\n",
       " (72,\n",
       "  'might be be up with a the the track if you might be be in the be no earth'),\n",
       " (73,\n",
       "  'my long from an contribution to UNK UNK UNK that gearing up into a few times'),\n",
       " (74,\n",
       "  'we were according to a UNK and the one of their their known as releases'),\n",
       " (75, 'artist has a version of funk and and look at late night'),\n",
       " (76,\n",
       "  'artist has a toilet that returns that these that after all the good or alone'),\n",
       " (77,\n",
       "  'artist will be inspired and the remix of a track that will be remixed by author'),\n",
       " (78,\n",
       "  'artist has been trying to grew up in the UNK and this is one of my game'),\n",
       " (79,\n",
       "  'artist has been similar to the piece but when she has been trying to date'),\n",
       " (80,\n",
       "  'its its pretty trying can check out now via the link below and get some link below'),\n",
       " (81,\n",
       "  'UNK vocal reminiscent by pop and that you all the sort of things up at all times'),\n",
       " (82,\n",
       "  'artist has been listening to the remix of artist so if you must in store'),\n",
       " (83,\n",
       "  'the indie pop continues to give this track you a listen listen UNK once again'),\n",
       " (84,\n",
       "  'and it has been listening to the all of what we have been making this scene'),\n",
       " (85,\n",
       "  'UNK will be sure to take on on UNK UNK and UNK are a great remix of artist s remixes'),\n",
       " (86,\n",
       "  'he has been looking for our yet but for trying to make sure to the rest of what hes hes taken from his next'),\n",
       " (87,\n",
       "  'we have been known for their debut called UNK who manages to to it with some extra perfection'),\n",
       " (88, 'the track be inspired by UNK and a one of UNK to take by your feat'),\n",
       " (89,\n",
       "  'serves as a version of acoustic guitar work and i want to me in his old times'),\n",
       " (90,\n",
       "  'we were a bit of departure from the artist and it seems to for the first place'),\n",
       " (91, 'it comes comes with a side of last week and when you know their heels'),\n",
       " (92, 'listen to the remix of artist and his synths and for my real thing'),\n",
       " (93, 'artist is opens with a UNK and the UNK is trying and sound right away'),\n",
       " (94,\n",
       "  'the kind of UNK and grew plays in the end of the production where it was so end'),\n",
       " (95, 'and we should even part of the track what you should even better'),\n",
       " (96,\n",
       "  'and according to this UNK was inspired with the title of its really lines'),\n",
       " (97,\n",
       "  'UNK aka artist has a stripped back in the sound of the sound and the sound electro perfection'),\n",
       " (98,\n",
       "  'just as one of acoustic UNK and and just featured in the UNK take on to date'),\n",
       " (99, 'in UNK UNK theres a new cut from your below and rather than style')]"
      ]
     },
     "execution_count": 4,
     "metadata": {},
     "output_type": "execute_result"
    }
   ],
   "source": [
    "list(zip(range(len(gens)), gens))"
   ]
  },
  {
   "cell_type": "code",
   "execution_count": 5,
   "metadata": {},
   "outputs": [
    {
     "data": {
      "text/plain": [
       "array([-1, -1, -1, -1, -1, -1, -1, -1, -1, -1, -1, -1, -1, -1, -1, -1, -1,\n",
       "       -1, -1, -1, -1,  1, -1, -1, -1, -1, -1, -1, -1, -1, -1, -1, -1, -1,\n",
       "       -1, -1, -1, -1,  1, -1,  1, -1, -1, -1, -1, -1,  1, -1, -1, -1, -1,\n",
       "        1, -1, -1,  1, -1, -1, -1,  1, -1, -1,  1, -1, -1, -1, -1, -1, -1,\n",
       "       -1, -1, -1, -1, -1, -1, -1, -1, -1, -1, -1, -1, -1, -1, -1, -1, -1,\n",
       "       -1, -1, -1,  1, -1, -1, -1, -1, -1, -1, -1, -1, -1, -1, -1])"
      ]
     },
     "execution_count": 5,
     "metadata": {},
     "output_type": "execute_result"
    }
   ],
   "source": [
    "#new_labels = np.array([(1, -1), (10, -1)])\n",
    "\n",
    "# -1 is \"bad\" because it contains a banned word, 1 is \"good\"\n",
    "banned = ['feat']\n",
    "labels = np.ones(n_samples, dtype=int)\n",
    "gens_lose = set([i for b in banned for i in np.where([b in g.split() for g in gens])[0]])\n",
    "gens_keep = list(set(range(len(gens))) - gens_lose)\n",
    "labels[gens_keep] = -1\n",
    "zs_keep = zs\n",
    "\n",
    "labels"
   ]
  },
  {
   "cell_type": "code",
   "execution_count": 6,
   "metadata": {},
   "outputs": [],
   "source": [
    "#labels = np.concatenate((labels, new_labels))\n",
    "#gens_keep = np.concatenate((gens_keep, np.array(gens)[np.array([i for i, l in new_labels])]))\n",
    "#zs_keep = np.concatenate((zs_keep, np.array([z.cpu().numpy() for z in zs])[np.array([i for i, l in new_labels])]))\n",
    "\n",
    "#gens_keep"
   ]
  },
  {
   "cell_type": "code",
   "execution_count": 7,
   "metadata": {},
   "outputs": [],
   "source": [
    "#gens_keep.shape, zs_keep.shape, labels.shape"
   ]
  },
  {
   "cell_type": "code",
   "execution_count": 8,
   "metadata": {},
   "outputs": [],
   "source": [
    "#np.get_printoptions()"
   ]
  },
  {
   "cell_type": "code",
   "execution_count": 9,
   "metadata": {},
   "outputs": [],
   "source": [
    "#np.set_printoptions(threshold=np.inf)\n",
    "#zs_keep"
   ]
  },
  {
   "cell_type": "code",
   "execution_count": 10,
   "metadata": {},
   "outputs": [],
   "source": [
    "# -1 is \"bad\", 1 is \"good\"\n",
    "#labels = np.ones(n_samples)\n",
    "\n",
    "# for now, make up some random labels\n",
    "#np.random.seed(42)\n",
    "#ones = np.random.rand(n_samples) < 0.2\n",
    "#labels[ones] = -1\n",
    "\n",
    "#labels = np.array([l for i, l in labels], dtype=float)\n",
    "#labels"
   ]
  },
  {
   "cell_type": "code",
   "execution_count": 11,
   "metadata": {},
   "outputs": [
    {
     "data": {
      "text/plain": [
       "([('feat', 9)],\n",
       " [('the', 99),\n",
       "  ('and', 81),\n",
       "  ('UNK', 77),\n",
       "  ('to', 69),\n",
       "  ('a', 65),\n",
       "  ('of', 64),\n",
       "  ('artist', 33),\n",
       "  ('from', 28),\n",
       "  ('with', 24),\n",
       "  ('in', 22),\n",
       "  ('been', 20),\n",
       "  ('as', 19),\n",
       "  ('trying', 18),\n",
       "  ('on', 18),\n",
       "  ('has', 18),\n",
       "  ('this', 17),\n",
       "  ('is', 17),\n",
       "  ('it', 16),\n",
       "  ('one', 16),\n",
       "  ('be', 16),\n",
       "  ('new', 15),\n",
       "  ('that', 14),\n",
       "  ('track', 14),\n",
       "  ('for', 13),\n",
       "  ('up', 12)])"
      ]
     },
     "execution_count": 11,
     "metadata": {},
     "output_type": "execute_result"
    }
   ],
   "source": [
    "from collections import Counter\n",
    "c1 = Counter([word for gen in gens for word in gen.split()])\n",
    "[(b, c1[b]) for b in banned], c1.most_common(25)"
   ]
  },
  {
   "cell_type": "markdown",
   "metadata": {},
   "source": [
    "## Data"
   ]
  },
  {
   "cell_type": "code",
   "execution_count": 12,
   "metadata": {},
   "outputs": [],
   "source": [
    "batch_size = 16"
   ]
  },
  {
   "cell_type": "code",
   "execution_count": 13,
   "metadata": {},
   "outputs": [],
   "source": [
    "from fastai.dataset import *\n",
    "\n",
    "class LatentDataset(Dataset):\n",
    "    def __init__(self, x, y): self.x,self.y = x,y\n",
    "    def __getitem__(self, idx): return A(self.x[idx], self.y[idx])\n",
    "    def __len__(self): return len(self.x)\n",
    "    \n",
    "ds = LatentDataset(zs_keep, labels.astype(float))\n",
    "dl = DataLoader(ds, batch_size)\n",
    "md = ModelData('.', dl, None)"
   ]
  },
  {
   "cell_type": "code",
   "execution_count": 14,
   "metadata": {},
   "outputs": [
    {
     "data": {
      "text/plain": [
       "[array([[ 0.03062, -0.40484,  0.14326,  1.03329, -0.61295,  1.28334, -0.34915, -0.68755,  0.63758,  0.46367,\n",
       "          0.14551, -0.37912,  0.41953,  0.32616, -0.2933 , -0.60283,  0.05167, -0.68704,  0.08463,  0.20438,\n",
       "         -0.95775, -0.08818,  0.03897, -0.35505,  1.28753, -0.7905 , -0.509  , -0.89471, -1.38843, -0.82167,\n",
       "          0.10482, -0.74657, -0.19068, -1.02   ,  0.00734,  1.3949 , -1.09858, -0.61614, -0.44469,  0.52185,\n",
       "          0.8835 ,  1.28144, -0.04392, -1.66312, -0.20609, -0.23686,  1.19621, -0.09359,  0.37392,  0.7714 ,\n",
       "         -0.79537,  0.79677, -0.89384, -0.15601,  0.49538, -0.11979, -0.27753, -0.00265,  0.28338,  0.76306,\n",
       "         -1.5272 ,  0.26166,  1.46766,  0.95444, -0.55457, -1.38998, -0.94134, -0.42574,  0.80968, -0.54563,\n",
       "         -0.617  ,  0.07215, -0.86152,  2.08143, -0.04659,  0.29063,  0.01217,  0.28925, -0.79423,  0.87405,\n",
       "          1.2639 , -0.63003,  1.04756,  1.20437, -0.575  ,  1.34179,  0.88682,  0.10663,  0.31128,  0.45204,\n",
       "         -0.49103,  2.58339,  1.16104, -0.38914, -0.57498,  0.54549, -1.53249,  0.4535 , -1.87405, -0.68449,\n",
       "         -0.60823, -0.43006, -0.07699,  0.88121,  0.65236, -0.38425,  0.49515, -0.3227 ,  0.69738, -0.83246,\n",
       "         -0.40009, -1.27949,  0.61902,  2.38899,  0.52973,  1.38009,  2.54393, -1.25195, -0.32737,  1.94397,\n",
       "         -0.5274 ,  0.27617,  0.14019,  0.17403,  1.20541,  0.96202, -0.84296,  0.27966]], dtype=float32),\n",
       " array(-1.)]"
      ]
     },
     "execution_count": 14,
     "metadata": {},
     "output_type": "execute_result"
    }
   ],
   "source": [
    "md.trn_ds[0]"
   ]
  },
  {
   "cell_type": "markdown",
   "metadata": {},
   "source": [
    "## Model"
   ]
  },
  {
   "cell_type": "code",
   "execution_count": 15,
   "metadata": {},
   "outputs": [],
   "source": [
    "n_latent = 128\n",
    "n_hidden = 1024\n",
    "lr = 3e-4"
   ]
  },
  {
   "cell_type": "code",
   "execution_count": 16,
   "metadata": {},
   "outputs": [],
   "source": [
    "import torch.optim as optim\n",
    "import torch.nn as nn\n",
    "\n",
    "class LCGAN_D(nn.Module):\n",
    "    '''Discriminator'''\n",
    "    def __init__(self, n_latent, n_hidden=n_hidden, n_output=1):\n",
    "        super(LCGAN_D, self).__init__()\n",
    "        \n",
    "        self.i2h = nn.Linear(n_latent, n_hidden)\n",
    "        self.h2h = nn.Linear(n_hidden, n_hidden)\n",
    "        self.h2o = nn.Linear(n_hidden, n_output)\n",
    "        \n",
    "        self.relu = nn.ReLU()\n",
    "        self.sigmoid = nn.Sigmoid()\n",
    "        \n",
    "    def forward(self, z):\n",
    "        x = z\n",
    "        x = self.relu(self.i2h(x))\n",
    "        x = self.relu(self.h2h(x))\n",
    "        x = self.relu(self.h2h(x))\n",
    "        v = self.sigmoid(self.h2o(x))\n",
    "        \n",
    "        return v\n",
    "\n",
    "class LCGAN_G(nn.Module):\n",
    "    '''Generator'''\n",
    "    def __init__(self, n_latent, n_hidden=n_hidden):\n",
    "        super(LCGAN_G, self).__init__()\n",
    "        self.n_latent = n_latent\n",
    "        \n",
    "        self.i2h = nn.Linear(n_latent, n_hidden)\n",
    "        self.h2h = nn.Linear(n_hidden, n_hidden)\n",
    "        # hidden-to-gating mechanism\n",
    "        self.h2g = nn.Linear(n_hidden, 2*n_latent)\n",
    "        \n",
    "        self.relu = nn.ReLU()\n",
    "        self.sigmoid = nn.Sigmoid()\n",
    "        \n",
    "    def forward(self, z):\n",
    "        x = z\n",
    "        x = self.relu(self.i2h(x))\n",
    "        x = self.relu(self.h2h(x))\n",
    "        x = self.relu(self.h2h(x))\n",
    "        x = self.h2g(x)\n",
    "        \n",
    "        # gating mechanism: allow network to remember/forget\n",
    "        # what it wants to about the original z and x\n",
    "        z_mid = x[:, self.n_latent:]\n",
    "        gates = self.sigmoid(x[:, :self.n_latent])\n",
    "        dz = gates * z_mid # TODO: why naming?\n",
    "        z_prime = (1 - gates)*z + dz\n",
    "        \n",
    "        return z_prime"
   ]
  },
  {
   "cell_type": "code",
   "execution_count": 17,
   "metadata": {},
   "outputs": [],
   "source": [
    "class LCGAN(nn.Module):\n",
    "    def __init__(self, D, G, batch_size=batch_size):\n",
    "        super(LCGAN, self).__init__()\n",
    "        self.batch_size = batch_size\n",
    "        \n",
    "        self.D = D\n",
    "        self.G = G\n",
    "\n",
    "    def train(self):\n",
    "        self.D.train()\n",
    "        self.G.train()\n",
    "        \n",
    "    def forward(self, z=None):       \n",
    "        if z is not None:\n",
    "            # train discriminator\n",
    "            v = self.D(z)\n",
    "            return v\n",
    "        else: # train GAN\n",
    "            # gaussian random noise\n",
    "            z_prior = torch.randn(self.batch_size, self.G.n_latent).cuda()\n",
    "            \n",
    "            z_prime = self.G(z_prior)\n",
    "            v_prime = self.D(z_prime)\n",
    "            \n",
    "            return v_prime"
   ]
  },
  {
   "cell_type": "markdown",
   "metadata": {},
   "source": [
    "## Training"
   ]
  },
  {
   "cell_type": "code",
   "execution_count": 18,
   "metadata": {},
   "outputs": [],
   "source": [
    "gan = LCGAN(LCGAN_D(n_latent), LCGAN_G(n_latent)).cuda()"
   ]
  },
  {
   "cell_type": "code",
   "execution_count": 19,
   "metadata": {},
   "outputs": [],
   "source": [
    "import fastai as fast\n",
    "\n",
    "fast.core.set_trainable(gan.D, True)\n",
    "fast.core.set_trainable(gan.G, True)\n",
    "\n",
    "opt_d = optim.Adam(gan.D.parameters(), lr=lr)\n",
    "opt_g = optim.Adam(gan.G.parameters(), lr=lr)"
   ]
  },
  {
   "cell_type": "code",
   "execution_count": 20,
   "metadata": {},
   "outputs": [
    {
     "data": {
      "text/plain": [
       "'along on a new york based producer UNK has managed to keep your musical feat'"
      ]
     },
     "execution_count": 20,
     "metadata": {},
     "output_type": "execute_result"
    }
   ],
   "source": [
    "# test what the GAN is doing before any training\n",
    "\n",
    "def generate(z):\n",
    "    generated = vae.decoder.generate(z, 50, temp, True)\n",
    "    generated_str = model.float_word_tensor_to_string(output_side, generated)\n",
    "\n",
    "    EOS_str = f' {output_side.index_to_word(torch.LongTensor([EOS_token]))} '\n",
    "\n",
    "    if generated_str.endswith(EOS_str):\n",
    "        generated_str = generated_str[:-5]\n",
    "\n",
    "    # flip it back\n",
    "    return generated_str[::-1]\n",
    "    \n",
    "generate(gan.G(torch.randn(1, n_latent).cuda()))"
   ]
  },
  {
   "cell_type": "code",
   "execution_count": 21,
   "metadata": {},
   "outputs": [
    {
     "name": "stdout",
     "output_type": "stream",
     "text": [
      "remix of a track that continues to put it in the sort of stripped here at times\n",
      "the comprised of UNK and serves as a stuck in better known as though\n",
      "this UNK is a going to comes in in UNK and no feat\n",
      "as one of the UNK i listened to a new single from white feat\n",
      "and this be one of the year when they look at times\n",
      "as a remix of UNK and gearing up at the months where we were fire\n",
      "the UNK will take on part of no matter if i look at feat\n",
      "inspired by the UNK remix of artist has a manages to to fall in los times\n",
      "and serves as one of the UNK and a their trying to look at times\n",
      "artist are back a UNK and the part of you from their previous chance\n"
     ]
    }
   ],
   "source": [
    "for i in range(10):\n",
    "    print(generate(gan.G(torch.randn(1, n_latent).cuda())))"
   ]
  },
  {
   "cell_type": "code",
   "execution_count": 22,
   "metadata": {},
   "outputs": [],
   "source": [
    "#from tqdm import tqdm\n",
    "\n",
    "# adapted from: https://github.com/fastai/fastai/blob/master/courses/dl2/wgan.ipynb\n",
    "def train(n_iter, alternate=False, first=False):\n",
    "    gen_iters = 0\n",
    "    for epoch in trange(n_iter):\n",
    "        gan.train()\n",
    "        data_iter = iter(md.trn_dl)\n",
    "        i, n = 0, len(md.trn_dl)\n",
    "        \n",
    "        def train_G():\n",
    "            ''' Train generator '''\n",
    "            nonlocal gen_iters\n",
    "            \n",
    "            fast.core.set_trainable(gan.D, False)\n",
    "            fast.core.set_trainable(gan.G, True)\n",
    "\n",
    "            gan.G.zero_grad()\n",
    "\n",
    "            #print(i, n)\n",
    "            loss_g = - torch.log(gan()).mean()\n",
    "            loss_g.backward()\n",
    "            opt_g.step()\n",
    "            gen_iters += 1\n",
    "            \n",
    "            return loss_g\n",
    "\n",
    "        def train_D():\n",
    "            ''' Train discriminator '''\n",
    "            nonlocal i\n",
    "            \n",
    "            fast.core.set_trainable(gan.D, True)\n",
    "            fast.core.set_trainable(gan.G, False)\n",
    "            d_iters = 100 if (first and (gen_iters < 25) or (gen_iters % 500 == 0)) else 3\n",
    "            j = 0\n",
    "\n",
    "            while (j < d_iters) and (i < n):\n",
    "                j += 1; i += 1\n",
    "                batch = next(data_iter)\n",
    "                #print(j, i, batch[0].size(), batch[1].size())\n",
    "                z_real = batch[0].cuda()\n",
    "                v = gan(z_real)\n",
    "\n",
    "                gan.D.zero_grad()\n",
    "\n",
    "                loss_d = - (batch[1] * torch.log(v) + (1.0-batch[1]) * torch.log(1.0 - v)).mean()\n",
    "                loss_d.backward()\n",
    "                opt_d.step()\n",
    "                \n",
    "                pbar.update()\n",
    "                \n",
    "            return loss_d\n",
    "        \n",
    "        with tqdm(total=n) as pbar:\n",
    "            while i < n:\n",
    "                if alternate:\n",
    "                    # train discriminator\n",
    "                    loss_d = train_D()\n",
    "                    # then train generator a little bit\n",
    "                    loss_g = train_G()\n",
    "                else:\n",
    "                    # train generator only\n",
    "                    i += 1\n",
    "                    loss_g = train_G()\n",
    "                    pbar.update()\n",
    "        \n",
    "        if alternate:\n",
    "            print(f'Loss_D {to_np(loss_d)}; Loss_G {to_np(loss_g)}; ')\n",
    "        else:\n",
    "            print(f'Loss_G {to_np(loss_g)}; ')"
   ]
  },
  {
   "cell_type": "code",
   "execution_count": 23,
   "metadata": {},
   "outputs": [],
   "source": [
    "def train_and_generate(gan, n_epoch, alternate=False, n_sample=10):\n",
    "    train(n_epoch, alternate)\n",
    "    for i in range(n_sample):\n",
    "        print(generate(gan.G(torch.randn(1, n_latent).cuda())))"
   ]
  },
  {
   "cell_type": "code",
   "execution_count": 24,
   "metadata": {},
   "outputs": [
    {
     "name": "stdout",
     "output_type": "stream",
     "text": [
      "100%|██████████| 7/7 [00:00<00:00, 239.63it/s]\n",
      "Loss_D -3.456084966659546; Loss_G 2.534956932067871; \n",
      "he continues to chilled one of the year and it gets really away his together\n",
      "in UNK and serves as one of the trying to look into no times\n",
      "in the artist have teamed up with a brand new single his feat\n",
      "single from artist and serves as one of of emotion and head look at times\n",
      "artist is back to a full of synths and stuck in this one you date\n",
      "artist is continues to come along with a remix of UNK who has been waiting for my times\n",
      "artist is gearing up with a one of the track that has manages to pure alone\n",
      "artist has teamed up with a nu a groove that stuck in the better known for artist live sitename\n",
      "i feel with the rest of the UNK is back with a fresh and stuck in my tour\n",
      "she has teamed up with a new UNK who has turned it in the one of my perfection\n"
     ]
    }
   ],
   "source": [
    "train_and_generate(gan, 1, alternate=True)"
   ]
  },
  {
   "cell_type": "code",
   "execution_count": 25,
   "metadata": {},
   "outputs": [
    {
     "name": "stdout",
     "output_type": "stream",
     "text": [
      "100%|██████████| 7/7 [00:00<00:00, 426.52it/s]\n",
      "Loss_G 1.8733115196228027; \n",
      "a sort of electro pop aka artist has been known for the electro pop banger\n",
      "one of the artist and such a brand new single from most creative scene\n",
      "artist has teamed up released a new part of the UNK which comes along with an synth line\n",
      "with a bit to UNK UNK and the UNK is one of your real scene\n",
      "listen to UNK be such as part of the track is taken from its most recordings\n",
      "UNK is taken from the likes of german aka artist such an amazing banger\n",
      "a bit a indie pop aka artist is continues to along with the electro pop vibes\n",
      "the indie pop track UNK is taken from the scene along with a very pop line\n",
      "artist has teamed up with a new remix of the track will is known for an no feat\n",
      "this UNK is taken of the UNK and and such a very perfection\n"
     ]
    }
   ],
   "source": [
    "train_and_generate(gan, 1)"
   ]
  },
  {
   "cell_type": "code",
   "execution_count": 26,
   "metadata": {},
   "outputs": [
    {
     "name": "stdout",
     "output_type": "stream",
     "text": [
      "100%|██████████| 7/7 [00:00<00:00, 438.85it/s]\n",
      "Loss_G 1.3772995471954346; \n",
      "with this UNK in the track to be such as one under my feat\n",
      "artist has teams up with the one of my year and which is taken from his live times\n",
      "the pop track that seems to be featured in the UNK long as part of their solo feat\n",
      "UNK and serves as one of the track which perfect trying i look many times\n",
      "to UNK and all in the UNK with a even my rather my feat\n",
      "artist is back to a long as part of the track comes collaboration with its no feat\n",
      "artist has been continues to come along in the sort of trying to give it into an your times\n",
      "this UNK and UNK has a bit of and of the track theres no times\n",
      "to a new track called below and serves is one of the stuck on pretty feat\n",
      "as one of the UNK trying to give it of a portland no feat\n"
     ]
    }
   ],
   "source": [
    "train_and_generate(gan, 1)"
   ]
  },
  {
   "cell_type": "code",
   "execution_count": 27,
   "metadata": {},
   "outputs": [
    {
     "name": "stdout",
     "output_type": "stream",
     "text": [
      "100%|██████████| 7/7 [00:00<00:00, 424.73it/s]\n",
      "Loss_G 1.0681360960006714; \n",
      "artist manages to come up with a UNK and according to the song so few times\n",
      "part of of UNK who has teamed up with a brand new its coming times\n",
      "artist seems to to serves as one of the music and rather than every feat\n",
      "of pop track that he seems to put one of the UNK year and its many times\n",
      "of a brand new track but it seems to be taken of the UNK and its many feat\n",
      "but it seems to be taken from the UNK and theres no feat\n",
      "artist artist continues to serves as one of the melody the stuck in my times\n",
      "artist is a listen to the side of what i look at your times\n",
      "artist has up with a UNK and listen to the one of the and theres no feat\n",
      "it would is taken from the UNK and was trying to keep your feat\n"
     ]
    }
   ],
   "source": [
    "train_and_generate(gan, 1)"
   ]
  },
  {
   "cell_type": "code",
   "execution_count": 28,
   "metadata": {},
   "outputs": [
    {
     "data": {
      "text/plain": [
       "([('feat', 58)],\n",
       " [('and', 107),\n",
       "  ('the', 102),\n",
       "  ('of', 90),\n",
       "  ('to', 83),\n",
       "  ('UNK', 81),\n",
       "  ('a', 71),\n",
       "  ('artist', 62),\n",
       "  ('feat', 58),\n",
       "  ('one', 54),\n",
       "  ('is', 43),\n",
       "  ('times', 42),\n",
       "  ('as', 39),\n",
       "  ('with', 35),\n",
       "  ('no', 32),\n",
       "  ('from', 30),\n",
       "  ('trying', 28),\n",
       "  ('serves', 28),\n",
       "  ('your', 25),\n",
       "  ('track', 24),\n",
       "  ('has', 23),\n",
       "  ('taken', 23),\n",
       "  ('many', 21),\n",
       "  ('up', 21),\n",
       "  ('every', 17),\n",
       "  ('continues', 16)])"
      ]
     },
     "execution_count": 28,
     "metadata": {},
     "output_type": "execute_result"
    }
   ],
   "source": [
    "g2 = []\n",
    "\n",
    "for i in range(100):\n",
    "    g2.append(generate(gan.G(torch.randn(1, n_latent).cuda())))\n",
    "    \n",
    "c2 = Counter([word for gen in g2 for word in gen.split()])\n",
    "[(b, c2[b]) for b in banned], c2.most_common(25)"
   ]
  },
  {
   "cell_type": "code",
   "execution_count": 29,
   "metadata": {},
   "outputs": [
    {
     "name": "stdout",
     "output_type": "stream",
     "text": [
      "100%|██████████| 7/7 [00:00<00:00, 416.34it/s]\n",
      "Loss_G 1.0038490295410156; \n",
      "later this UNK who and coming out in the better known as no times\n",
      "a new single from UNK and listen to the remix of long as long so many times\n",
      "as he continues a UNK as part of the next year for many times\n",
      "with the remix the UNK UNK will take as a listen because its no times\n",
      "from the UNK and serves as one of was trying to keep your no times\n",
      "he along with a mash UNK and reminiscent of the track track theres no times\n",
      "artist continues and a reminiscent of a track that will take from their real times\n",
      "artist is from the likes the UNK and according to a long for many times\n",
      "artist continues to come along with the sort of trying to give it into an many times\n",
      "as a listen to UNK and UNK as one to the better ready for many times\n"
     ]
    }
   ],
   "source": [
    "train_and_generate(gan, 1)"
   ]
  },
  {
   "cell_type": "code",
   "execution_count": 30,
   "metadata": {},
   "outputs": [
    {
     "name": "stdout",
     "output_type": "stream",
     "text": [
      "100%|██████████| 7/7 [00:00<00:00, 418.21it/s]\n",
      "Loss_G 0.966079592704773; \n",
      "serves as one of the UNK and is trying to keep your no feat\n",
      "with a new remix of UNK and it seems to be taken from the UNK theres no feat\n",
      "at the likes of UNK and listening to a brand the UNK because theres no feat\n",
      "artist has been up with as one of the UNK and it would be taken for many feat\n",
      "the new track is called UNK and according to the one of the UNK theres no feat\n",
      "artist with a remix a UNK and in according of the UNK from your no feat\n",
      "artist continues to serves as one of the UNK and i it into an no feat\n",
      "a pop track where he continues to turned part of the UNK and rather than no feat\n",
      "artist has teams up with a one of the UNK and it would be taken for from at feat\n",
      "UNK and serves has a listen to a one of the UNK theres no feat\n"
     ]
    }
   ],
   "source": [
    "train_and_generate(gan, 1)"
   ]
  },
  {
   "cell_type": "code",
   "execution_count": 31,
   "metadata": {},
   "outputs": [
    {
     "name": "stdout",
     "output_type": "stream",
     "text": [
      "100%|██████████| 7/7 [00:00<00:00, 432.65it/s]\n",
      "Loss_G 0.9576628804206848; \n",
      "from the UNK and serves as a one is trying to keep for many times\n",
      "with a UNK and serves as one of of trying to give you under my times\n",
      "a new track called UNK and serves as one of the trying to look theres no times\n",
      "artist has been managed to take as one of the UNK theres no feat\n",
      "with a called UNK and and seems to and one of the next year for many times\n",
      "track is taken from the UNK and serves as one and its trying to keep your times\n",
      "artist has been according to the UNK and put out of a few years for many times\n",
      "artist is continues to serves as one of new UNK track theres no times\n",
      "artist is continues to UNK and a part of the more track theres no times\n",
      "artist is grew up and a part of their debut track because theres no times\n"
     ]
    }
   ],
   "source": [
    "train_and_generate(gan, 1)"
   ]
  },
  {
   "cell_type": "code",
   "execution_count": 32,
   "metadata": {},
   "outputs": [
    {
     "name": "stdout",
     "output_type": "stream",
     "text": [
      "100%|██████████| 7/7 [00:00<00:00, 424.06it/s]\n",
      "Loss_G 0.950273871421814; \n",
      "one of serves with a UNK and listening to the music because theres many feat\n",
      "artist has teams up with a UNK and one of the fell in san where no feat\n",
      "artist has continues to UNK and serves as one of the UNK theres no feat\n",
      "with a UNK and serves as one of of trying to check year for many feat\n",
      "be blown away to UNK as one and the better known keep your no feat\n",
      "a remix of even but it to be taken of the UNK and theres many feat\n",
      "serves as one of the UNK and was trying to keep your no times\n",
      "UNK is taken of the UNK and is trying to keep your no feat\n",
      "a new single called UNK and serves as one of the trying to look to no feat\n",
      "where he continues to serves as one of the UNK and theres many times\n"
     ]
    }
   ],
   "source": [
    "train_and_generate(gan, 1)"
   ]
  },
  {
   "cell_type": "code",
   "execution_count": 33,
   "metadata": {},
   "outputs": [
    {
     "name": "stdout",
     "output_type": "stream",
     "text": [
      "100%|██████████| 7/7 [00:00<00:00, 427.83it/s]\n",
      "Loss_G 0.9456344842910767; \n",
      "artist continues to serves as one of the UNK and give track at no feat\n",
      "artist has teams up with a UNK and one of the the trying would be known for many feat\n",
      "artist is trying to and one of their new track theres no feat\n",
      "he up with called UNK recorded in the one is trying to keep your no feat\n",
      "UNK is one of a deep house where i to know for many feat\n",
      "soon as serves with a UNK and according to the it under real times\n",
      "with a new remix of UNK artist has been listening to the electro pop UNK theres no feat\n",
      "artist continues to last UNK serves and one of the track and theres many feat\n",
      "artist has teamed up with a a one of the UNK which was trying to keep his many feat\n",
      "artist continues to serves with of UNK and stuck to the better known for many feat\n"
     ]
    }
   ],
   "source": [
    "train_and_generate(gan, 1)"
   ]
  },
  {
   "cell_type": "code",
   "execution_count": 34,
   "metadata": {},
   "outputs": [
    {
     "name": "stdout",
     "output_type": "stream",
     "text": [
      "100%|██████████| 7/7 [00:00<00:00, 443.10it/s]\n",
      "Loss_G 0.9434221982955933; \n",
      "100%|██████████| 7/7 [00:00<00:00, 467.93it/s]\n",
      "Loss_G 0.9410950541496277; \n",
      "100%|██████████| 7/7 [00:00<00:00, 469.66it/s]\n",
      "Loss_G 0.939498782157898; \n",
      "100%|██████████| 7/7 [00:00<00:00, 467.91it/s]\n",
      "Loss_G 0.9392887949943542; \n",
      "100%|██████████| 7/7 [00:00<00:00, 470.59it/s]\n",
      "Loss_G 0.9369213581085205; \n",
      "artist is continues to to a bit of and of the UNK theres no feat\n",
      "up with a one of the UNK which is trying to keep your no feat\n",
      "with a UNK UNK and he trying to be one of the track because theres many feat\n",
      "a a new track called UNK and serves as one of the perfect trying to look many feat\n",
      "listening to a new track called UNK and he take as one of the track theres no feat\n",
      "part of what he manages to UNK to more taken of the UNK theres no feat\n",
      "artist has teams up with a UNK and one of the such as long as no feat\n",
      "artist is back to a long as part of the track be taken from your no feat\n",
      "UNK is taken from the UNK and one of a was trying to into your many feat\n",
      "artist is listen to UNK and serves as one of the rather than no feat\n"
     ]
    }
   ],
   "source": [
    "train_and_generate(gan, 5)"
   ]
  },
  {
   "cell_type": "code",
   "execution_count": 35,
   "metadata": {},
   "outputs": [
    {
     "name": "stdout",
     "output_type": "stream",
     "text": [
      "100%|██████████| 7/7 [00:00<00:00, 442.34it/s]\n",
      "Loss_G 0.9382340312004089; \n",
      "100%|██████████| 7/7 [00:00<00:00, 477.04it/s]\n",
      "Loss_G 0.9350211024284363; \n",
      "100%|██████████| 7/7 [00:00<00:00, 468.39it/s]\n",
      "Loss_G 0.9355571866035461; \n",
      "100%|██████████| 7/7 [00:00<00:00, 467.99it/s]\n",
      "Loss_G 0.9368972182273865; \n",
      "100%|██████████| 7/7 [00:00<00:00, 471.38it/s]\n",
      "Loss_G 0.9335988759994507; \n",
      "artist is back be to long as part of the UNK and rather than no times\n",
      "track be taken to the UNK and serves as one of his many times\n",
      "artist is back to a long a one of the what i look at my feat\n",
      "artist has continues a mash UNK serves as one of the UNK theres no feat\n",
      "the new UNK artist a mash up and as one from their portland no feat\n",
      "he continues to long as one of the UNK and make such a many feat\n",
      "from the likes of UNK and listened to a brand new taken from what no times\n",
      "artist is back to a long as one of the UNK theres no feat\n",
      "UNK has a listen to the side of such as long as no feat\n",
      "artist has been listen to the UNK and serves as one of my year for many feat\n"
     ]
    }
   ],
   "source": [
    "train_and_generate(gan, 5)"
   ]
  },
  {
   "cell_type": "code",
   "execution_count": 36,
   "metadata": {},
   "outputs": [
    {
     "data": {
      "text/plain": [
       "([('feat', 49)],\n",
       " [('UNK', 114),\n",
       "  ('the', 111),\n",
       "  ('of', 102),\n",
       "  ('to', 83),\n",
       "  ('and', 78),\n",
       "  ('a', 69),\n",
       "  ('times', 51),\n",
       "  ('one', 49),\n",
       "  ('feat', 49),\n",
       "  ('many', 46),\n",
       "  ('artist', 44),\n",
       "  ('no', 43),\n",
       "  ('with', 35),\n",
       "  ('as', 35),\n",
       "  ('trying', 35),\n",
       "  ('is', 32),\n",
       "  ('taken', 30),\n",
       "  ('from', 25),\n",
       "  ('has', 23),\n",
       "  ('track', 23),\n",
       "  ('it', 21),\n",
       "  ('be', 20),\n",
       "  ('serves', 18),\n",
       "  ('theres', 18),\n",
       "  ('for', 18)])"
      ]
     },
     "execution_count": 36,
     "metadata": {},
     "output_type": "execute_result"
    }
   ],
   "source": [
    "g3 = []\n",
    "\n",
    "for i in range(100):\n",
    "    g3.append(generate(gan.G(torch.randn(1, n_latent).cuda())))\n",
    "    \n",
    "c3 = Counter([word for gen in g3 for word in gen.split()])\n",
    "[(b, c3[b]) for b in banned], c3.most_common(25)"
   ]
  }
 ],
 "metadata": {
  "kernelspec": {
   "display_name": "Python 3",
   "language": "python",
   "name": "python3"
  },
  "language_info": {
   "codemirror_mode": {
    "name": "ipython",
    "version": 3
   },
   "file_extension": ".py",
   "mimetype": "text/x-python",
   "name": "python",
   "nbconvert_exporter": "python",
   "pygments_lexer": "ipython3",
   "version": "3.6.5"
  }
 },
 "nbformat": 4,
 "nbformat_minor": 2
}
