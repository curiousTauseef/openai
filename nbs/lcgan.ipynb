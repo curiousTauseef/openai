{
 "cells": [
  {
   "cell_type": "markdown",
   "metadata": {},
   "source": [
    "https://arxiv.org/abs/1711.05772 / https://arxiv.org/abs/1802.04877\n",
    "\n",
    "https://github.com/natashamjaques/magenta/blob/affective-reward/magenta/models/affective_reward/latent_gan.py"
   ]
  },
  {
   "cell_type": "markdown",
   "metadata": {},
   "source": [
    "## Labeling data"
   ]
  },
  {
   "cell_type": "code",
   "execution_count": 1,
   "metadata": {},
   "outputs": [],
   "source": [
    "#from pdb import set_trace\n",
    "#set_trace()"
   ]
  },
  {
   "cell_type": "code",
   "execution_count": 2,
   "metadata": {},
   "outputs": [],
   "source": [
    "import numpy as np\n",
    "\n",
    "labels = np.empty([0, 2], dtype=int)\n",
    "gens_keep = np.empty([0, ], dtype=object)\n",
    "zs_keep = np.empty([0, 1, 128], dtype=float)"
   ]
  },
  {
   "cell_type": "code",
   "execution_count": 3,
   "metadata": {},
   "outputs": [
    {
     "name": "stdout",
     "output_type": "stream",
     "text": [
      "Namespace(cache_path='../../pytorch-text-vae/tmp', max_length=50, num_sample=100, print_z=False, saved_vae='../../pytorch-text-vae/reviews_sentences_state.pt', seed=None, stored_info='reviews_sentences_stored_info.pkl', temp=0.2, use_cuda=True)\n",
      "Fetching cached info at ../../pytorch-text-vae/tmp/reviews_sentences_stored_info.pkl\n",
      "Cache ../../pytorch-text-vae/tmp/reviews_sentences_stored_info.pkl loaded, total load time 0.6255929470062256\n",
      "Found saved model ../../pytorch-text-vae/reviews_sentences_state.pt\n",
      "MAX_SAMPLE: False; TRUNCATED_SAMPLE: True\n",
      "Setting new random seed\n",
      "---\n",
      "artist s familiar with a stripped work in UNK but its its trying to put it in their listen\n",
      "---\n",
      "a year old producer producer i feel it below and guest vocals from vocal voice\n",
      "---\n",
      "the song i want to inspired by a deep house artists and i just into a real city\n",
      "---\n",
      "you to be released on a part of the UNK and just released their debut ep\n",
      "---\n",
      "UNK is a dark and as one of the love which came into a four years\n",
      "---\n",
      "its hard to sucker and serves as one of the UNK is set to drop in their production\n",
      "---\n",
      "UNK has released a release to the UNK as if youre in a pretty good alone\n",
      "---\n",
      "i come along with a song because of the guy who has been looking for my story\n",
      "---\n",
      "along with an fans of the track because it would be it in their creative effect\n",
      "---\n",
      "artist has got a new remix for a year and thats exactly what i been taken from my entire album\n",
      "---\n",
      "UNK is part of the music that will blown away from the entire show\n",
      "---\n",
      "produced by artist here in the right here and listen to a bit track from your ground\n",
      "---\n",
      "with another reminiscent from the UNK and it was trying to look at times\n",
      "---\n",
      "continues to gearing up for a indie house but if you want to keep your tour\n",
      "---\n",
      "sort of of music you might have been featured on the UNK UNK la duo\n",
      "---\n",
      "that now to the remix the right now and in the right on own everywhere\n",
      "---\n",
      "UNK is a listen to the release of UNK and and are just as before\n",
      "---\n",
      "a dose of songs your trying to keep them into the dream pop vibes\n",
      "---\n",
      "swedish aka artist has given that the way to a up and way for the way\n",
      "---\n",
      "he was a listen to the track that would take on to work and stuck in every times\n",
      "---\n",
      "you feel like it managed to take on the UNK and better known as it\n",
      "---\n",
      "as part of the mash up and as a a bit of my post\n",
      "---\n",
      "UNK has been gearing up to to UNK version of of five years and summer festival\n",
      "---\n",
      "hes such a part of of rap and hes taken from all no times\n",
      "---\n",
      "from the quartet artist are back into a reminiscent of his recent work or musical moments\n",
      "---\n",
      "produced by UNK and perfect addition to the track that we made for the first place\n",
      "---\n",
      "hes turned into a indie pop track that hes turned into his rework of his artists\n",
      "---\n",
      "UNK is inspired by the first time where to stripped back into another line\n",
      "---\n",
      "i i according to the indie pop music which music exactly what they have a t chance\n",
      "---\n",
      "listen to the to that he grew up and some of the work in that is just as too\n",
      "---\n",
      "you wanted to get up with every time and this remix of deep my style\n",
      "---\n",
      "UNK and the release of their their debut ep right now by black detroit\n",
      "---\n",
      "UNK will be long as long as the sort of deep pop makes it seems to be sweet\n",
      "---\n",
      "in the past year and hes trying to come us with a pretty known for track\n",
      "---\n",
      "artist managed to put back into a bit of soulful vocals and you into your expect\n",
      "---\n",
      "an electro pop single single weve come up with the full of sound to take with them times\n",
      "---\n",
      "with an new hailing from UNK and they and a follow featured in the in last feat\n",
      "---\n",
      "soulful vocals and turned out on a long given came on the part of artist s now\n",
      "---\n",
      "the final version of artist is back in the UNK and giving us under his latest track away\n",
      "---\n",
      "collaborated with the electronic music which is just as part of his electro pop style\n",
      "---\n",
      "he dropped a bit of UNK and back with a new single from her voice\n",
      "---\n",
      "theres no listened to a lot progressive house music and taken from UNK page\n",
      "---\n",
      "as one of the forthcoming debut album and you may be known then if next\n",
      "---\n",
      "hes such a stripped back into the likes of guitars and really into the line\n",
      "---\n",
      "they have a brand new band called UNK and are back to a little part of your ears\n",
      "---\n",
      "it to stuck in the kind of making it feels like style and taken from house style\n",
      "---\n",
      "he stripped back to the link below and look at the release of a four years where he feat\n",
      "---\n",
      "artist has just over the kind of away my trying to see see behind this track\n",
      "---\n",
      "one of the two later this year and all the stripped back in your head\n",
      "---\n",
      "may have teamed up with a likes the UNK UNK just dropped a new single\n",
      "---\n",
      "we is trying a work in exactly where it take on their work or even though\n",
      "---\n",
      "the artist is up with a live below and along with their friends\n",
      "---\n",
      "as the kind of guitar and artist who has a pretty tribute to the rest of our production\n",
      "---\n",
      "artist is seems to be such as one of the listener in my hands keep your everywhere\n",
      "---\n",
      "it comes in of UNK UNK and gives UNK in long when they from his debut album today\n",
      "---\n",
      "it seems to on serves as reminiscent on the guitars and used in a near times\n",
      "---\n",
      "his they sound like a very trying to give it all over the when his sound\n",
      "---\n",
      "the one has co produced by such a track while im hard to to say\n",
      "---\n",
      "he continues to such as part of as such as such as such as known as feat\n",
      "---\n",
      "in the indie pop songs i came into a title work but so cool\n",
      "---\n",
      "artist is now and youre looking for the listen to the cover of every time they baby\n",
      "---\n",
      "this chilled out of UNK but its thanks to the original and ready for this tune\n",
      "---\n",
      "written by stripped back in a UNK when they have been take on the UNK and while we were so\n",
      "---\n",
      "UNK is taken from the from UNK UNK UNK UNK UNK a listen to UNK music playlist\n",
      "---\n",
      "listening to a his new new UNK which is a listen to date\n",
      "---\n",
      "get some of indie pop and and the song will and pretty built on others\n",
      "---\n",
      "teams up with a new version of UNK and and UNK track around your things\n",
      "---\n",
      "the track he has on a been listening to the remix of the track has taken from their scene\n",
      "---\n",
      "artist is one of a thing and classic artist doesnt sounds like a thing\n",
      "---\n",
      "you were looking for the rest of a dark and if you were alone\n",
      "---\n",
      "the kind of artist is trying to take on a week and i grew up be alone\n",
      "---\n",
      "you are back to a take on the day and you can tell me along\n",
      "---\n",
      "up with UNK and taken on the his likes the UNK UNK artist was a very direction\n",
      "---\n",
      "artist have been trying to familiar with their recent work work where i could have UNK take UNK UNK work\n",
      "---\n",
      "later this UNK and can be one of the songs and with a new ears\n",
      "---\n",
      "UNK is one dance UNK UNK would be taken from the UNK show\n",
      "---\n",
      "artist is back with a beats that tribute to the mix of eye on our beats\n",
      "---\n",
      "the UNK continues to UNK along with his long as long as one of sitename\n",
      "---\n",
      "UNK UNK just dropped a UNK and the remix of their style\n",
      "---\n",
      "with this one of deep house who continues to when it comes off of emotions\n",
      "---\n",
      "continues to another kicking check later this UNK and check out of the vocals most\n",
      "---\n",
      "what he continues to on one of the gives straight into our future\n",
      "---\n",
      "one of her debut track and it as a track to soon by behind explains\n",
      "---\n",
      "who was according to the day and inspired by the one of day who was himself\n",
      "---\n",
      "steel drums and according to the track artist is reminiscent of another groove that taken from alone\n",
      "---\n",
      "back with a UNK a version of a UNK and be sure to look at the thing\n",
      "---\n",
      "known is a good UNK and he comes UNK UNK where you can be fans\n",
      "---\n",
      "in the last year and no one of our those artists are artists\n",
      "---\n",
      "i to help but its a new remix away from the vibes and his new vibes\n",
      "---\n",
      "artist such a funk more departure from the from where it was feat\n",
      "---\n",
      "artist is back as one in the artist the the i cant get away\n",
      "---\n",
      "we are here and listen to a very single from the where vocals are trying to perfection\n",
      "---\n",
      "its expect to expect to the title gives it feel like a bass line\n",
      "---\n",
      "may have teams up with the release of a north of tour where i look at my store\n",
      "---\n",
      "artist has a north american filled with swirling synths and give it into the kind of nu disco beats\n",
      "---\n",
      "artist has got a bit a feeling and stuck in the take on your head\n",
      "---\n",
      "this yet a listen to the production from this soulful production and then\n"
     ]
    },
    {
     "name": "stdout",
     "output_type": "stream",
     "text": [
      "---\n",
      "the remix of deep house what they have taken from their remix of los angeles\n",
      "---\n",
      "artist has he released a long a soon as but today and the likes of trying and focus on others\n",
      "---\n",
      "then and in some of their debut single inspired by a little back\n"
     ]
    }
   ],
   "source": [
    "from pathlib import Path\n",
    "vae_dir = Path('../../pytorch-text-vae') # https://github.com/iconix/pytorch-text-vae\n",
    "\n",
    "n_samples = 100\n",
    "temp = 0.2\n",
    "\n",
    "%run -i $vae_dir/generate.py $vae_dir/reviews_sentences_state.pt reviews_sentences_stored_info.pkl --cache-path=$vae_dir/tmp --num-sample=$n_samples --temp=$temp"
   ]
  },
  {
   "cell_type": "code",
   "execution_count": 4,
   "metadata": {},
   "outputs": [
    {
     "data": {
      "text/plain": [
       "[(0,\n",
       "  'artist s familiar with a stripped work in UNK but its its trying to put it in their listen'),\n",
       " (1,\n",
       "  'a year old producer producer i feel it below and guest vocals from vocal voice'),\n",
       " (2,\n",
       "  'the song i want to inspired by a deep house artists and i just into a real city'),\n",
       " (3,\n",
       "  'you to be released on a part of the UNK and just released their debut ep'),\n",
       " (4, 'UNK is a dark and as one of the love which came into a four years'),\n",
       " (5,\n",
       "  'its hard to sucker and serves as one of the UNK is set to drop in their production'),\n",
       " (6,\n",
       "  'UNK has released a release to the UNK as if youre in a pretty good alone'),\n",
       " (7,\n",
       "  'i come along with a song because of the guy who has been looking for my story'),\n",
       " (8,\n",
       "  'along with an fans of the track because it would be it in their creative effect'),\n",
       " (9,\n",
       "  'artist has got a new remix for a year and thats exactly what i been taken from my entire album'),\n",
       " (10, 'UNK is part of the music that will blown away from the entire show'),\n",
       " (11,\n",
       "  'produced by artist here in the right here and listen to a bit track from your ground'),\n",
       " (12,\n",
       "  'with another reminiscent from the UNK and it was trying to look at times'),\n",
       " (13,\n",
       "  'continues to gearing up for a indie house but if you want to keep your tour'),\n",
       " (14, 'sort of of music you might have been featured on the UNK UNK la duo'),\n",
       " (15,\n",
       "  'that now to the remix the right now and in the right on own everywhere'),\n",
       " (16, 'UNK is a listen to the release of UNK and and are just as before'),\n",
       " (17, 'a dose of songs your trying to keep them into the dream pop vibes'),\n",
       " (18, 'swedish aka artist has given that the way to a up and way for the way'),\n",
       " (19,\n",
       "  'he was a listen to the track that would take on to work and stuck in every times'),\n",
       " (20, 'you feel like it managed to take on the UNK and better known as it'),\n",
       " (21, 'as part of the mash up and as a a bit of my post'),\n",
       " (22,\n",
       "  'UNK has been gearing up to to UNK version of of five years and summer festival'),\n",
       " (23, 'hes such a part of of rap and hes taken from all no times'),\n",
       " (24,\n",
       "  'from the quartet artist are back into a reminiscent of his recent work or musical moments'),\n",
       " (25,\n",
       "  'produced by UNK and perfect addition to the track that we made for the first place'),\n",
       " (26,\n",
       "  'hes turned into a indie pop track that hes turned into his rework of his artists'),\n",
       " (27,\n",
       "  'UNK is inspired by the first time where to stripped back into another line'),\n",
       " (28,\n",
       "  'i i according to the indie pop music which music exactly what they have a t chance'),\n",
       " (29,\n",
       "  'listen to the to that he grew up and some of the work in that is just as too'),\n",
       " (30, 'you wanted to get up with every time and this remix of deep my style'),\n",
       " (31,\n",
       "  'UNK and the release of their their debut ep right now by black detroit'),\n",
       " (32,\n",
       "  'UNK will be long as long as the sort of deep pop makes it seems to be sweet'),\n",
       " (33,\n",
       "  'in the past year and hes trying to come us with a pretty known for track'),\n",
       " (34,\n",
       "  'artist managed to put back into a bit of soulful vocals and you into your expect'),\n",
       " (35,\n",
       "  'an electro pop single single weve come up with the full of sound to take with them times'),\n",
       " (36,\n",
       "  'with an new hailing from UNK and they and a follow featured in the in last feat'),\n",
       " (37,\n",
       "  'soulful vocals and turned out on a long given came on the part of artist s now'),\n",
       " (38,\n",
       "  'the final version of artist is back in the UNK and giving us under his latest track away'),\n",
       " (39,\n",
       "  'collaborated with the electronic music which is just as part of his electro pop style'),\n",
       " (40, 'he dropped a bit of UNK and back with a new single from her voice'),\n",
       " (41,\n",
       "  'theres no listened to a lot progressive house music and taken from UNK page'),\n",
       " (42,\n",
       "  'as one of the forthcoming debut album and you may be known then if next'),\n",
       " (43,\n",
       "  'hes such a stripped back into the likes of guitars and really into the line'),\n",
       " (44,\n",
       "  'they have a brand new band called UNK and are back to a little part of your ears'),\n",
       " (45,\n",
       "  'it to stuck in the kind of making it feels like style and taken from house style'),\n",
       " (46,\n",
       "  'he stripped back to the link below and look at the release of a four years where he feat'),\n",
       " (47,\n",
       "  'artist has just over the kind of away my trying to see see behind this track'),\n",
       " (48, 'one of the two later this year and all the stripped back in your head'),\n",
       " (49, 'may have teamed up with a likes the UNK UNK just dropped a new single'),\n",
       " (50,\n",
       "  'we is trying a work in exactly where it take on their work or even though'),\n",
       " (51, 'the artist is up with a live below and along with their friends'),\n",
       " (52,\n",
       "  'as the kind of guitar and artist who has a pretty tribute to the rest of our production'),\n",
       " (53,\n",
       "  'artist is seems to be such as one of the listener in my hands keep your everywhere'),\n",
       " (54,\n",
       "  'it comes in of UNK UNK and gives UNK in long when they from his debut album today'),\n",
       " (55,\n",
       "  'it seems to on serves as reminiscent on the guitars and used in a near times'),\n",
       " (56,\n",
       "  'his they sound like a very trying to give it all over the when his sound'),\n",
       " (57, 'the one has co produced by such a track while im hard to to say'),\n",
       " (58,\n",
       "  'he continues to such as part of as such as such as such as known as feat'),\n",
       " (59, 'in the indie pop songs i came into a title work but so cool'),\n",
       " (60,\n",
       "  'artist is now and youre looking for the listen to the cover of every time they baby'),\n",
       " (61,\n",
       "  'this chilled out of UNK but its thanks to the original and ready for this tune'),\n",
       " (62,\n",
       "  'written by stripped back in a UNK when they have been take on the UNK and while we were so'),\n",
       " (63,\n",
       "  'UNK is taken from the from UNK UNK UNK UNK UNK a listen to UNK music playlist'),\n",
       " (64, 'listening to a his new new UNK which is a listen to date'),\n",
       " (65,\n",
       "  'get some of indie pop and and the song will and pretty built on others'),\n",
       " (66,\n",
       "  'teams up with a new version of UNK and and UNK track around your things'),\n",
       " (67,\n",
       "  'the track he has on a been listening to the remix of the track has taken from their scene'),\n",
       " (68,\n",
       "  'artist is one of a thing and classic artist doesnt sounds like a thing'),\n",
       " (69, 'you were looking for the rest of a dark and if you were alone'),\n",
       " (70, 'the kind of artist is trying to take on a week and i grew up be alone'),\n",
       " (71, 'you are back to a take on the day and you can tell me along'),\n",
       " (72,\n",
       "  'up with UNK and taken on the his likes the UNK UNK artist was a very direction'),\n",
       " (73,\n",
       "  'artist have been trying to familiar with their recent work work where i could have UNK take UNK UNK work'),\n",
       " (74, 'later this UNK and can be one of the songs and with a new ears'),\n",
       " (75, 'UNK is one dance UNK UNK would be taken from the UNK show'),\n",
       " (76,\n",
       "  'artist is back with a beats that tribute to the mix of eye on our beats'),\n",
       " (77,\n",
       "  'the UNK continues to UNK along with his long as long as one of sitename'),\n",
       " (78, 'UNK UNK just dropped a UNK and the remix of their style'),\n",
       " (79,\n",
       "  'with this one of deep house who continues to when it comes off of emotions'),\n",
       " (80,\n",
       "  'continues to another kicking check later this UNK and check out of the vocals most'),\n",
       " (81, 'what he continues to on one of the gives straight into our future'),\n",
       " (82, 'one of her debut track and it as a track to soon by behind explains'),\n",
       " (83,\n",
       "  'who was according to the day and inspired by the one of day who was himself'),\n",
       " (84,\n",
       "  'steel drums and according to the track artist is reminiscent of another groove that taken from alone'),\n",
       " (85, 'back with a UNK a version of a UNK and be sure to look at the thing'),\n",
       " (86, 'known is a good UNK and he comes UNK UNK where you can be fans'),\n",
       " (87, 'in the last year and no one of our those artists are artists'),\n",
       " (88, 'i to help but its a new remix away from the vibes and his new vibes'),\n",
       " (89, 'artist such a funk more departure from the from where it was feat'),\n",
       " (90, 'artist is back as one in the artist the the i cant get away'),\n",
       " (91,\n",
       "  'we are here and listen to a very single from the where vocals are trying to perfection'),\n",
       " (92, 'its expect to expect to the title gives it feel like a bass line'),\n",
       " (93,\n",
       "  'may have teams up with the release of a north of tour where i look at my store'),\n",
       " (94,\n",
       "  'artist has a north american filled with swirling synths and give it into the kind of nu disco beats'),\n",
       " (95, 'artist has got a bit a feeling and stuck in the take on your head'),\n",
       " (96,\n",
       "  'this yet a listen to the production from this soulful production and then'),\n",
       " (97,\n",
       "  'the remix of deep house what they have taken from their remix of los angeles'),\n",
       " (98,\n",
       "  'artist has he released a long a soon as but today and the likes of trying and focus on others'),\n",
       " (99, 'then and in some of their debut single inspired by a little back')]"
      ]
     },
     "execution_count": 4,
     "metadata": {},
     "output_type": "execute_result"
    }
   ],
   "source": [
    "list(zip(range(len(gens)), gens))"
   ]
  },
  {
   "cell_type": "code",
   "execution_count": 5,
   "metadata": {},
   "outputs": [
    {
     "data": {
      "text/plain": [
       "array([ 1, -1,  1,  1,  1,  1,  1,  1,  1,  1,  1,  1,  1,  1,  1,  1,  1,\n",
       "        1,  1,  1,  1,  1,  1,  1,  1,  1,  1,  1,  1,  1,  1,  1,  1,  1,\n",
       "        1,  1,  1,  1,  1,  1,  1,  1,  1,  1,  1,  1, -1,  1,  1,  1,  1,\n",
       "       -1,  1,  1,  1,  1,  1,  1,  1,  1,  1,  1,  1,  1,  1,  1,  1,  1,\n",
       "        1,  1,  1,  1,  1,  1,  1,  1,  1,  1,  1,  1,  1,  1,  1,  1,  1,\n",
       "        1,  1,  1,  1,  1,  1,  1,  1,  1,  1,  1,  1,  1,  1,  1])"
      ]
     },
     "execution_count": 5,
     "metadata": {},
     "output_type": "execute_result"
    }
   ],
   "source": [
    "#new_labels = np.array([(1, -1), (10, -1)])\n",
    "\n",
    "# -1 is \"bad\" because it contains a banned word, 1 is \"good\"\n",
    "banned = ['below']\n",
    "labels = np.ones(n_samples, dtype=int)\n",
    "gens_lose = list(set([i for b in banned for i in np.where([b in g.split() for g in gens])[0]]))\n",
    "#gens_keep = list(set(range(len(gens))) - gens_lose)\n",
    "labels[gens_lose] = -1\n",
    "zs_keep = zs\n",
    "\n",
    "labels"
   ]
  },
  {
   "cell_type": "code",
   "execution_count": 6,
   "metadata": {},
   "outputs": [],
   "source": [
    "#labels = np.concatenate((labels, new_labels))\n",
    "#gens_keep = np.concatenate((gens_keep, np.array(gens)[np.array([i for i, l in new_labels])]))\n",
    "#zs_keep = np.concatenate((zs_keep, np.array([z.cpu().numpy() for z in zs])[np.array([i for i, l in new_labels])]))\n",
    "\n",
    "#gens_keep"
   ]
  },
  {
   "cell_type": "code",
   "execution_count": 7,
   "metadata": {},
   "outputs": [],
   "source": [
    "#gens_keep.shape, zs_keep.shape, labels.shape"
   ]
  },
  {
   "cell_type": "code",
   "execution_count": 8,
   "metadata": {},
   "outputs": [],
   "source": [
    "#np.get_printoptions()"
   ]
  },
  {
   "cell_type": "code",
   "execution_count": 9,
   "metadata": {},
   "outputs": [],
   "source": [
    "#np.set_printoptions(threshold=np.inf)\n",
    "#zs_keep"
   ]
  },
  {
   "cell_type": "code",
   "execution_count": 10,
   "metadata": {},
   "outputs": [],
   "source": [
    "# -1 is \"bad\", 1 is \"good\"\n",
    "#labels = np.ones(n_samples)\n",
    "\n",
    "# for now, make up some random labels\n",
    "#np.random.seed(42)\n",
    "#ones = np.random.rand(n_samples) < 0.2\n",
    "#labels[ones] = -1\n",
    "\n",
    "#labels = np.array([l for i, l in labels], dtype=float)\n",
    "#labels"
   ]
  },
  {
   "cell_type": "code",
   "execution_count": 11,
   "metadata": {},
   "outputs": [
    {
     "data": {
      "text/plain": [
       "([('below', 3)],\n",
       " [('the', 95),\n",
       "  ('a', 76),\n",
       "  ('and', 70),\n",
       "  ('of', 68),\n",
       "  ('to', 65),\n",
       "  ('UNK', 64),\n",
       "  ('artist', 26),\n",
       "  ('in', 26),\n",
       "  ('as', 26),\n",
       "  ('with', 24),\n",
       "  ('from', 23),\n",
       "  ('is', 21),\n",
       "  ('on', 20),\n",
       "  ('it', 19),\n",
       "  ('one', 16),\n",
       "  ('track', 15),\n",
       "  ('back', 15),\n",
       "  ('into', 14),\n",
       "  ('their', 13),\n",
       "  ('i', 13),\n",
       "  ('has', 13),\n",
       "  ('up', 13),\n",
       "  ('you', 12),\n",
       "  ('his', 12),\n",
       "  ('trying', 11)])"
      ]
     },
     "execution_count": 11,
     "metadata": {},
     "output_type": "execute_result"
    }
   ],
   "source": [
    "from collections import Counter\n",
    "c1 = Counter([word for gen in gens for word in gen.split()])\n",
    "[(b, c1[b]) for b in banned], c1.most_common(25)"
   ]
  },
  {
   "cell_type": "markdown",
   "metadata": {},
   "source": [
    "## Data"
   ]
  },
  {
   "cell_type": "code",
   "execution_count": 12,
   "metadata": {},
   "outputs": [
    {
     "name": "stdout",
     "output_type": "stream",
     "text": [
      "cuda.is_available: True\n",
      "available: 1; current: 0\n",
      "cuda:0\n",
      "pytorch 0.4.0\n"
     ]
    }
   ],
   "source": [
    "print('cuda.is_available:', torch.cuda.is_available())\n",
    "print(f'available: {torch.cuda.device_count()}; current: {torch.cuda.current_device()}')\n",
    "DEVICE = torch.device(f'cuda:{torch.cuda.current_device()}' if torch.cuda.is_available() else 'cpu')\n",
    "print(DEVICE)\n",
    "print('pytorch', torch.__version__)"
   ]
  },
  {
   "cell_type": "code",
   "execution_count": 13,
   "metadata": {},
   "outputs": [],
   "source": [
    "batch_size = 16"
   ]
  },
  {
   "cell_type": "code",
   "execution_count": 14,
   "metadata": {},
   "outputs": [],
   "source": [
    "from fastai.dataset import *\n",
    "\n",
    "class LatentDataset(Dataset):\n",
    "    def __init__(self, x, y): self.x,self.y = x,y\n",
    "    def __getitem__(self, idx): return A(self.x[idx], self.y[idx])\n",
    "    def __len__(self): return len(self.x)\n",
    "    \n",
    "ds = LatentDataset(zs_keep, labels.astype(float))\n",
    "dl = DataLoader(ds, batch_size)\n",
    "md = ModelData('.', dl, None)"
   ]
  },
  {
   "cell_type": "code",
   "execution_count": 15,
   "metadata": {},
   "outputs": [
    {
     "data": {
      "text/plain": [
       "[array([[ 0.04707,  1.08466, -0.60218, -0.67286, -0.10172,  0.0974 , -0.38054,  0.20859,  2.46602,  1.91158,\n",
       "          1.5715 ,  1.08334, -0.47448,  0.50931,  1.50375, -0.68288, -0.53922, -1.55318,  1.07398,  0.16002,\n",
       "          0.00061,  0.51902,  0.51798, -0.84872,  0.5032 ,  0.93224, -0.6465 ,  0.03063,  1.21098, -1.42716,\n",
       "         -0.07219,  0.06316,  0.6061 ,  0.00509, -0.48093, -1.21606, -0.10246,  0.34924,  0.54495, -0.25784,\n",
       "          0.98363,  0.12866,  1.65521, -0.68938,  0.21726,  0.50987,  0.75703,  0.5394 , -1.18928,  1.94751,\n",
       "         -0.91054, -0.35315,  0.1198 ,  4.27383, -0.21631, -1.1195 ,  0.0644 , -0.71762,  0.06315, -1.57454,\n",
       "         -1.79773, -0.95778,  0.85088,  0.4873 , -0.20203,  0.02008, -0.65778,  1.32636, -0.36775, -0.90573,\n",
       "         -0.28959,  0.43247,  1.23503,  1.30368, -0.89333,  0.36211,  0.44308, -1.06952,  0.50592, -0.8578 ,\n",
       "          0.27662, -0.09768, -0.17769, -0.47801,  0.35472,  1.20022, -0.48859,  0.43836,  1.32658,  0.51809,\n",
       "         -0.05355, -0.24419, -0.49989,  1.08612,  0.86536,  1.00837, -0.93555, -0.91569,  0.56688,  1.65324,\n",
       "          1.86281,  2.9236 ,  0.96821, -0.17843, -1.41813, -2.06991, -0.28514,  0.69455,  1.57809,  1.24196,\n",
       "          0.41807, -1.06086,  1.10531,  0.40247,  0.23208, -0.44666, -0.52081,  0.81526,  0.11694,  0.42579,\n",
       "         -0.87081, -0.33763,  0.7848 ,  0.34268,  0.26995, -2.38859,  0.84494,  0.74493]], dtype=float32),\n",
       " array(1.)]"
      ]
     },
     "execution_count": 15,
     "metadata": {},
     "output_type": "execute_result"
    }
   ],
   "source": [
    "md.trn_ds[0]"
   ]
  },
  {
   "cell_type": "markdown",
   "metadata": {},
   "source": [
    "## Model"
   ]
  },
  {
   "cell_type": "code",
   "execution_count": 16,
   "metadata": {},
   "outputs": [],
   "source": [
    "n_latent = 128\n",
    "n_hidden = 1024\n",
    "lr = 3e-4"
   ]
  },
  {
   "cell_type": "code",
   "execution_count": 17,
   "metadata": {},
   "outputs": [],
   "source": [
    "import torch.optim as optim\n",
    "import torch.nn as nn\n",
    "\n",
    "class LCGAN_D(nn.Module):\n",
    "    '''Discriminator'''\n",
    "    def __init__(self, n_latent, n_hidden=n_hidden, n_output=1):\n",
    "        super(LCGAN_D, self).__init__()\n",
    "        \n",
    "        self.i2h = nn.Linear(n_latent, n_hidden)\n",
    "        self.h2h = nn.Linear(n_hidden, n_hidden)\n",
    "        self.h2o = nn.Linear(n_hidden, n_output)\n",
    "        \n",
    "        self.relu = nn.ReLU()\n",
    "        self.sigmoid = nn.Sigmoid()\n",
    "        \n",
    "    def forward(self, z):\n",
    "        x = z\n",
    "        x = self.relu(self.i2h(x))\n",
    "        x = self.relu(self.h2h(x))\n",
    "        x = self.relu(self.h2h(x))\n",
    "        v = self.sigmoid(self.h2o(x))\n",
    "        \n",
    "        return v\n",
    "\n",
    "class LCGAN_G(nn.Module):\n",
    "    '''Generator'''\n",
    "    def __init__(self, n_latent, n_hidden=n_hidden):\n",
    "        super(LCGAN_G, self).__init__()\n",
    "        self.n_latent = n_latent\n",
    "        \n",
    "        self.i2h = nn.Linear(n_latent, n_hidden)\n",
    "        self.h2h = nn.Linear(n_hidden, n_hidden)\n",
    "        # hidden-to-gating mechanism\n",
    "        self.h2g = nn.Linear(n_hidden, 2*n_latent)\n",
    "        \n",
    "        self.relu = nn.ReLU()\n",
    "        self.sigmoid = nn.Sigmoid()\n",
    "        \n",
    "    def forward(self, z):\n",
    "        x = z\n",
    "        x = self.relu(self.i2h(x))\n",
    "        x = self.relu(self.h2h(x))\n",
    "        x = self.relu(self.h2h(x))\n",
    "        x = self.h2g(x)\n",
    "        \n",
    "        # gating mechanism: allow network to remember/forget\n",
    "        # what it wants to about the original z and x\n",
    "        z_mid = x[:, self.n_latent:]\n",
    "        gates = self.sigmoid(x[:, :self.n_latent])\n",
    "        dz = gates * z_mid # TODO: why naming?\n",
    "        z_prime = (1 - gates)*z + dz\n",
    "        \n",
    "        return z_prime"
   ]
  },
  {
   "cell_type": "code",
   "execution_count": 18,
   "metadata": {},
   "outputs": [],
   "source": [
    "class LCGAN(nn.Module):\n",
    "    def __init__(self, D, G, batch_size=batch_size):\n",
    "        super(LCGAN, self).__init__()\n",
    "        self.batch_size = batch_size\n",
    "        \n",
    "        self.D = D\n",
    "        self.G = G\n",
    "\n",
    "    def train(self):\n",
    "        self.D.train()\n",
    "        self.G.train()\n",
    "        \n",
    "    def eval(self):\n",
    "        self.D.eval()\n",
    "        self.G.eval()\n",
    "        \n",
    "    def forward(self, z=None):       \n",
    "        if z is not None:\n",
    "            # train discriminator\n",
    "            v = self.D(z)\n",
    "            return v\n",
    "        else: # train GAN\n",
    "            # gaussian random noise\n",
    "            z_prior = torch.randn(self.batch_size, self.G.n_latent).to(DEVICE)\n",
    "            \n",
    "            z_prime = self.G(z_prior)\n",
    "            v_prime = self.D(z_prime)\n",
    "            \n",
    "            return v_prime"
   ]
  },
  {
   "cell_type": "markdown",
   "metadata": {},
   "source": [
    "## Training"
   ]
  },
  {
   "cell_type": "code",
   "execution_count": 19,
   "metadata": {},
   "outputs": [],
   "source": [
    "gan = LCGAN(LCGAN_D(n_latent), LCGAN_G(n_latent)).to(DEVICE)"
   ]
  },
  {
   "cell_type": "code",
   "execution_count": 20,
   "metadata": {},
   "outputs": [],
   "source": [
    "import fastai as fast\n",
    "\n",
    "fast.core.set_trainable(gan.D, True)\n",
    "fast.core.set_trainable(gan.G, True)\n",
    "\n",
    "opt_d = optim.Adam(gan.D.parameters(), lr=lr)\n",
    "opt_g = optim.Adam(gan.G.parameters(), lr=lr)"
   ]
  },
  {
   "cell_type": "code",
   "execution_count": 21,
   "metadata": {},
   "outputs": [
    {
     "data": {
      "text/plain": [
       "'i trying to be lost in the UNK and serves as a known for real feat'"
      ]
     },
     "execution_count": 21,
     "metadata": {},
     "output_type": "execute_result"
    }
   ],
   "source": [
    "# test what the GAN is doing before any training\n",
    "\n",
    "def generate(gan):\n",
    "    gan.eval()\n",
    "    with torch.no_grad():\n",
    "        z = torch.randn(1, n_latent).to(DEVICE)\n",
    "        z_prime = gan.G(z)\n",
    "\n",
    "        generated = vae.decoder.generate(z_prime, 50, temp, True)\n",
    "        generated_str = model.float_word_tensor_to_string(output_side, generated)\n",
    "\n",
    "        EOS_str = f' {output_side.index_to_word(torch.LongTensor([EOS_token]))} '\n",
    "\n",
    "        if generated_str.endswith(EOS_str):\n",
    "            generated_str = generated_str[:-5]\n",
    "\n",
    "        # flip it back\n",
    "        return generated_str[::-1], z, z_prime\n",
    "\n",
    "generate(gan)[0]"
   ]
  },
  {
   "cell_type": "code",
   "execution_count": 22,
   "metadata": {},
   "outputs": [
    {
     "name": "stdout",
     "output_type": "stream",
     "text": [
      "listen to UNK and serves as a UNK from the UNK are trying to look at feat\n",
      "teamed up with a UNK and the dose of UNK who with some hailing from producer others\n",
      "trying to speaking of the song and you might be known on the portland or alone\n",
      "UNK aka artist who dropped a remix of UNK and of the song under white feat\n",
      "he is listening to the kind of style and will take on in even times\n",
      "in the rest aka artist recently released brand new which in in feat\n",
      "artist has been trying to serves as part of the song because they look theres no feat\n",
      "UNK are according to a a remix of what to fall in next\n",
      "she has a listen to the rest of the track is here at times\n",
      "speaking on the UNK and artist trying to with a brand new single with or feat\n"
     ]
    }
   ],
   "source": [
    "for i in range(10):\n",
    "    print(generate(gan)[0])"
   ]
  },
  {
   "cell_type": "code",
   "execution_count": 23,
   "metadata": {},
   "outputs": [],
   "source": [
    "#from tqdm import tqdm\n",
    "\n",
    "# adapted from: https://github.com/fastai/fastai/blob/master/courses/dl2/wgan.ipynb\n",
    "def train(n_iter, alternate=False, first=False):\n",
    "    gen_iters = 0\n",
    "    for epoch in trange(n_iter):\n",
    "        gan.train()\n",
    "        data_iter = iter(md.trn_dl)\n",
    "        i, n = 0, len(md.trn_dl)\n",
    "        \n",
    "        def train_G():\n",
    "            ''' Train generator '''\n",
    "            nonlocal gen_iters\n",
    "            \n",
    "            fast.core.set_trainable(gan.D, False)\n",
    "            fast.core.set_trainable(gan.G, True)\n",
    "\n",
    "            gan.G.zero_grad()\n",
    "\n",
    "            #print(i, n)\n",
    "            loss_g = - torch.log(gan()).mean()\n",
    "            loss_g.backward()\n",
    "            opt_g.step()\n",
    "            gen_iters += 1\n",
    "            \n",
    "            return loss_g\n",
    "\n",
    "        def train_D():\n",
    "            ''' Train discriminator '''\n",
    "            nonlocal i\n",
    "            \n",
    "            fast.core.set_trainable(gan.D, True)\n",
    "            fast.core.set_trainable(gan.G, False)\n",
    "            d_iters = 100 if (first and (gen_iters < 25) or (gen_iters % 500 == 0)) else 3\n",
    "            j = 0\n",
    "\n",
    "            while (j < d_iters) and (i < n):\n",
    "                j += 1; i += 1\n",
    "                batch = next(data_iter)\n",
    "                #print(j, i, batch[0].size(), batch[1].size())\n",
    "                z_real = batch[0].to(DEVICE)\n",
    "                v = gan(z_real)\n",
    "\n",
    "                gan.D.zero_grad()\n",
    "\n",
    "                #loss_d = - (batch[1] * torch.log(v) + (1.0-batch[1]) * torch.log(1.0 - v)).mean()\n",
    "                loss_d = - (batch[1] * torch.log(v) + (1.0-batch[1]) * torch.log(1.0 - v)).mean()\n",
    "                loss_d.backward()\n",
    "                opt_d.step()\n",
    "                \n",
    "                pbar.update()\n",
    "                \n",
    "            return loss_d\n",
    "        \n",
    "        with tqdm(total=n) as pbar:\n",
    "            while i < n:\n",
    "                if alternate:\n",
    "                    # train discriminator\n",
    "                    loss_d = train_D()\n",
    "                    # then train generator a little bit\n",
    "                    loss_g = train_G()\n",
    "                else:\n",
    "                    # train generator only\n",
    "                    i += 1\n",
    "                    loss_g = train_G()\n",
    "                    pbar.update()\n",
    "        \n",
    "        if alternate:\n",
    "            print(f'Loss_D {to_np(loss_d)}; Loss_G {to_np(loss_g)}; ')\n",
    "        else:\n",
    "            print(f'Loss_G {to_np(loss_g)}; ')"
   ]
  },
  {
   "cell_type": "code",
   "execution_count": 24,
   "metadata": {},
   "outputs": [],
   "source": [
    "def train_and_generate(gan, n_epoch, alternate=False, n_sample=10):\n",
    "    train(n_epoch, alternate)\n",
    "    res = []\n",
    "    for i in range(n_sample):\n",
    "        res.append(generate(gan))\n",
    "    return res"
   ]
  },
  {
   "cell_type": "code",
   "execution_count": 25,
   "metadata": {},
   "outputs": [
    {
     "name": "stdout",
     "output_type": "stream",
     "text": [
      "100%|██████████| 7/7 [00:00<00:00, 243.08it/s]\n",
      "Loss_D 0.028300680220127106; Loss_G 0.11306840181350708; \n"
     ]
    },
    {
     "data": {
      "text/plain": [
       "['on the likes of UNK and it would be taken from their debut album she feat',\n",
       " 'artist has a take on the side of what we have taken of their style',\n",
       " 'artist has teamed up with a progressive house and i look at times',\n",
       " 'artist has been listening to the UNK and one of a track that manages to live times',\n",
       " 'artist is back with a remix of the ep which been looking for alone',\n",
       " 'artist is taken from a brand new ep were trying to look at times',\n",
       " 'the new track below and is back to the one of a look at times',\n",
       " 'the track will be inspired by UNK and the UNK UNK UNK real feat',\n",
       " 'the a version of UNK that we have been from their debut album or recordings',\n",
       " 'reminiscent of of artist is similar from the UNK from such a look at times']"
      ]
     },
     "execution_count": 25,
     "metadata": {},
     "output_type": "execute_result"
    }
   ],
   "source": [
    "[res[0] for res in train_and_generate(gan, 1, alternate=True)]"
   ]
  },
  {
   "cell_type": "code",
   "execution_count": 26,
   "metadata": {},
   "outputs": [
    {
     "name": "stdout",
     "output_type": "stream",
     "text": [
      "100%|██████████| 7/7 [00:00<00:00, 405.23it/s]\n",
      "Loss_G 0.02989479899406433; \n"
     ]
    },
    {
     "data": {
      "text/plain": [
       "['serves with a song he song to featured in one where he recordings',\n",
       " 'artist is like a listen of the house which will never really store',\n",
       " 'with a a new track that seems to be taken from the UNK and jazz lyrics',\n",
       " 'UNK will be serves as a deep minute or though i would be used to perfection',\n",
       " 'take on UNK on serves is one of any fell in if you need to date',\n",
       " 'UNK is taken from the UNK where we were talking into los city',\n",
       " 'the track vocals and serves as one from the according to for more dance jam',\n",
       " 'as part of his debut UNK which is according to the part of a r b style',\n",
       " 'though it seems to be be sort of indie will take on any times',\n",
       " 'with a full of electronic UNK and UNK is on the trying to chilled one on or ears']"
      ]
     },
     "execution_count": 26,
     "metadata": {},
     "output_type": "execute_result"
    }
   ],
   "source": [
    "[res[0] for res in train_and_generate(gan, 1)]"
   ]
  },
  {
   "cell_type": "code",
   "execution_count": 27,
   "metadata": {},
   "outputs": [
    {
     "name": "stdout",
     "output_type": "stream",
     "text": [
      "100%|██████████| 7/7 [00:00<00:00, 428.63it/s]\n",
      "Loss_G 0.0002287279930897057; \n"
     ]
    },
    {
     "data": {
      "text/plain": [
       "['it will be taken from my hands on this one comes to little bit',\n",
       " 'this one will be on this little bit of to',\n",
       " 'you will be featured on this one theres no way on this one to to bit',\n",
       " 'UNK is a little different take on this one if i need to date',\n",
       " 'be on this one comes in the best because i need to future',\n",
       " 'as i came out as this as my didnt comes to synth',\n",
       " 'this one comes in my bit on this one to comes to classic',\n",
       " 'you can get my first take on this one to dance to to',\n",
       " 'comes as a bit speaking on this one comes with this one comes to stay',\n",
       " 'it comes in a four this comes as it comes to future synth']"
      ]
     },
     "execution_count": 27,
     "metadata": {},
     "output_type": "execute_result"
    }
   ],
   "source": [
    "[res[0] for res in train_and_generate(gan, 1)]"
   ]
  },
  {
   "cell_type": "code",
   "execution_count": 28,
   "metadata": {},
   "outputs": [
    {
     "data": {
      "text/plain": [
       "([('below', 0)],\n",
       " [('to', 122),\n",
       "  ('this', 112),\n",
       "  ('one', 91),\n",
       "  ('comes', 85),\n",
       "  ('on', 81),\n",
       "  ('in', 40),\n",
       "  ('bit', 39),\n",
       "  ('you', 35),\n",
       "  ('synth', 35),\n",
       "  ('little', 34),\n",
       "  ('can', 30),\n",
       "  ('i', 28),\n",
       "  ('dance', 28),\n",
       "  ('be', 27),\n",
       "  ('my', 23),\n",
       "  ('as', 21),\n",
       "  ('way', 21),\n",
       "  ('it', 20),\n",
       "  ('just', 19),\n",
       "  ('a', 19),\n",
       "  ('creative', 16),\n",
       "  ('need', 13),\n",
       "  ('classic', 13),\n",
       "  ('featured', 12),\n",
       "  ('future', 12)])"
      ]
     },
     "execution_count": 28,
     "metadata": {},
     "output_type": "execute_result"
    }
   ],
   "source": [
    "g2 = []\n",
    "\n",
    "for i in range(100):\n",
    "    g2.append(generate(gan))\n",
    "    \n",
    "c2 = Counter([word for res in g2 for word in res[0].split()])\n",
    "[(b, c2[b]) for b in banned], c2.most_common(25)"
   ]
  },
  {
   "cell_type": "markdown",
   "metadata": {},
   "source": [
    "## Extras"
   ]
  },
  {
   "cell_type": "markdown",
   "metadata": {},
   "source": [
    "retrain discriminator with new samples... `z_prime`s that the discriminator is still not rejecting strongly enough"
   ]
  },
  {
   "cell_type": "code",
   "execution_count": 36,
   "metadata": {},
   "outputs": [
    {
     "data": {
      "text/plain": [
       "array([-1, -1, -1, -1, -1, -1, -1, -1, -1, -1, -1, -1, -1, -1, -1, -1, -1, -1, -1, -1, -1, -1, -1, -1, -1,\n",
       "       -1, -1, -1, -1, -1, -1, -1, -1, -1, -1, -1, -1, -1,  1, -1,  1, -1, -1, -1, -1, -1, -1, -1, -1, -1,\n",
       "       -1, -1, -1, -1, -1, -1, -1, -1, -1, -1, -1, -1, -1, -1, -1, -1, -1, -1, -1, -1, -1, -1, -1, -1, -1,\n",
       "       -1, -1, -1, -1, -1, -1, -1, -1, -1, -1, -1, -1, -1,  1, -1, -1, -1, -1, -1, -1, -1, -1, -1, -1, -1])"
      ]
     },
     "execution_count": 36,
     "metadata": {},
     "output_type": "execute_result"
    }
   ],
   "source": [
    "labels = np.ones(len(g2), dtype=int)\n",
    "gens_lose = list(set([i for b in banned for i in np.where([b in res[0].split() for res in g2])[0]]))\n",
    "#gens_keep = list(set(range(len(g2))) - gens_lose)\n",
    "labels[gens_lose] = -1\n",
    "zs_keep = np.array([res[2] for res in g2], dtype=object)\n",
    "\n",
    "labels        "
   ]
  },
  {
   "cell_type": "code",
   "execution_count": 32,
   "metadata": {},
   "outputs": [],
   "source": [
    "ds = LatentDataset(zs_keep, labels.astype(float))\n",
    "dl = DataLoader(ds, batch_size)\n",
    "md = ModelData('.', dl, None)"
   ]
  },
  {
   "cell_type": "code",
   "execution_count": 33,
   "metadata": {},
   "outputs": [
    {
     "name": "stdout",
     "output_type": "stream",
     "text": [
      "100%|██████████| 7/7 [00:00<00:00, 284.11it/s]\n",
      "Loss_D 1.193210244178772; Loss_G 1.1896806955337524; \n"
     ]
    },
    {
     "data": {
      "text/plain": [
       "['artist has teams up with a a one of the UNK and it would be taken from i don no feat',\n",
       " 'this with a remix of UNK and trying to take of the UNK theres no feat',\n",
       " 'the remix of UNK has been trying to take of the UNK theres no feat',\n",
       " 'UNK is a listen to the UNK and coming side of what to look at feat',\n",
       " 'a new track called UNK and serves as one of the trying would be ready for at times',\n",
       " 'artist has up with a UNK and one of the track will be inspired as no feat',\n",
       " 'artist is back in the likes of UNK and serves as a no times',\n",
       " 'artist who reminds back to a more stuck on the UNK and theres many feat',\n",
       " 'he continues to serves as one of the week what i look no feat',\n",
       " 'with a layers of UNK and and UNK of the perfect trying i look at feat']"
      ]
     },
     "execution_count": 33,
     "metadata": {},
     "output_type": "execute_result"
    }
   ],
   "source": [
    "[res[0] for res in train_and_generate(gan, 1, alternate=True)]"
   ]
  }
 ],
 "metadata": {
  "kernelspec": {
   "display_name": "Python 3",
   "language": "python",
   "name": "python3"
  },
  "language_info": {
   "codemirror_mode": {
    "name": "ipython",
    "version": 3
   },
   "file_extension": ".py",
   "mimetype": "text/x-python",
   "name": "python",
   "nbconvert_exporter": "python",
   "pygments_lexer": "ipython3",
   "version": "3.6.5"
  }
 },
 "nbformat": 4,
 "nbformat_minor": 2
}
