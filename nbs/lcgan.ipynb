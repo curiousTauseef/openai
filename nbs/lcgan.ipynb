{
 "cells": [
  {
   "cell_type": "markdown",
   "metadata": {},
   "source": [
    "https://arxiv.org/abs/1711.05772 / https://arxiv.org/abs/1802.04877\n",
    "\n",
    "https://github.com/natashamjaques/magenta/blob/affective-reward/magenta/models/affective_reward/latent_gan.py"
   ]
  },
  {
   "cell_type": "markdown",
   "metadata": {},
   "source": [
    "## Labeling data"
   ]
  },
  {
   "cell_type": "code",
   "execution_count": 1,
   "metadata": {},
   "outputs": [],
   "source": [
    "#from pdb import set_trace\n",
    "#set_trace()"
   ]
  },
  {
   "cell_type": "code",
   "execution_count": 2,
   "metadata": {},
   "outputs": [],
   "source": [
    "import numpy as np\n",
    "\n",
    "labels = np.empty([0, 2], dtype=int)\n",
    "gens_keep = np.empty([0, ], dtype=object)\n",
    "zs_keep = np.empty([0, 1, 128], dtype=float)"
   ]
  },
  {
   "cell_type": "code",
   "execution_count": 3,
   "metadata": {},
   "outputs": [
    {
     "name": "stdout",
     "output_type": "stream",
     "text": [
      "Namespace(cache_path='../../pytorch-text-vae/tmp', max_length=50, num_sample=100, print_z=False, saved_vae='../../pytorch-text-vae/reviews_sentences_state.pt', seed=None, stored_info='reviews_sentences_stored_info.pkl', temp=0.2, use_cuda=True)\n",
      "Fetching cached info at ../../pytorch-text-vae/tmp/reviews_sentences_stored_info.pkl\n",
      "Cache ../../pytorch-text-vae/tmp/reviews_sentences_stored_info.pkl loaded, total load time 0.6670348644256592\n",
      "Found saved model ../../pytorch-text-vae/reviews_sentences_state.pt\n",
      "MAX_SAMPLE: False; TRUNCATED_SAMPLE: True\n",
      "Setting new random seed\n",
      "---\n",
      "there is a one of synth synth and and will be from their previous work\n",
      "---\n",
      "artist who continues to come along with the vocals and the gearing trying to look at every moment\n",
      "---\n",
      "artist listening to it comes along with the rest of artist and lana bliss\n",
      "---\n",
      "he continues to look at the release of the mash artist and a nu s disco\n",
      "---\n",
      "artist has come into a new mix of UNK and the UNK and has mash on more lately\n",
      "---\n",
      "artist will be going will take on the below and i look at the link below\n",
      "---\n",
      "as speaking of the track which of UNK and trying to come them as a version of UNK or guitar\n",
      "---\n",
      "artist is for a new single called day know how we will going on the track below or feat\n",
      "---\n",
      "in the sort an indie pop music though we we lost in making music even more of of more lyrics\n",
      "---\n",
      "soon as part of the past week when hes released on your side\n",
      "---\n",
      "swedish producer UNK has managed to hit along with all also soundtrack to UNK your white feat\n",
      "---\n",
      "we got a long as one of the years and put it into an eye about these times\n",
      "---\n",
      "back to the UNK UNK due UNK as well as the duo who has put out on a UNK records\n",
      "---\n",
      "part of this song taken from the UNK and i im known for her new album\n",
      "---\n",
      "artist have as a reminiscent of what we look not the end\n",
      "---\n",
      "the dance UNK aka artist is one of swirling synths and atmospheric synths\n",
      "---\n",
      "as a part of this UNK as a return to the track as well as date\n",
      "---\n",
      "listen to house UNK who has taken from the vocals along with both line\n",
      "---\n",
      "and we have have a new trying to come serves call it perfection\n",
      "---\n",
      "after a cover of UNK and UNK trying to give it for some emotions\n",
      "---\n",
      "UNK is part of los angeles based of los san where we recently\n",
      "---\n",
      "artist is inspired by the stuck in even like it is here and theres no alone\n",
      "---\n",
      "new track producer artist is back by the reminiscent of a few years and thats from our story\n",
      "---\n",
      "as part of our first time artist will be part in his first show\n",
      "---\n",
      "the UNK managed to come along with the kind of track and departure from their heights\n",
      "---\n",
      "talking about the song when you wanted to give it it a bit of about about date\n",
      "---\n",
      "according to official remix here at the the time we to make such the creative storm\n",
      "---\n",
      "the kind of piece that is takes away from UNK from the kind of trying to look at world\n",
      "---\n",
      "artist is back with a UNK UNK UNK take on a tropical house track i am feat\n",
      "---\n",
      "this one way to mash up and long as one of the band that listened to their success\n",
      "---\n",
      "UNK could have mash featured in UNK UNK and UNK is one of his year or stripped down below\n",
      "---\n",
      "their latest single from artist have seems to be known as a rework of it its perfection\n",
      "---\n",
      "artist are according to a new music along with try and stuck in the artist s disco name\n",
      "---\n",
      "when it with even more stuck in the track your head she does it better\n",
      "---\n",
      "i wanted to be one of the last week and he it on a final version of artist s fire\n",
      "---\n",
      "artist has a a similar to the musical stuck in this ep and song to its very good\n",
      "---\n",
      "if youre trying to theres a listen to the UNK and im were pretty fashion\n",
      "---\n",
      "and with a known for the ep which comes in the rest of record UNK date\n",
      "---\n",
      "he takes on the preview of a new song along with two tracks\n",
      "---\n",
      "one of two night and the remix which will be mash remixed by late san where they festival\n",
      "---\n",
      "you can give comes out of the indie pop which i love because its a little feat\n",
      "---\n",
      "in the part of UNK and be trying to be just as an first UNK via our website\n",
      "---\n",
      "the artist who were looking for the tracks a listen to the rest of their previous tracks\n",
      "---\n",
      "UNK is taken from the type of artists who has such a quite too\n",
      "---\n",
      "artist theres a bit big things and taken from their debut london\n",
      "---\n",
      "the UNK is here and with a dance music must pretty need to come out\n",
      "---\n",
      "i want to be out to the likes of UNK and which comes in my scene\n",
      "---\n",
      "return with a sophomore album if we can be known for their tour website\n",
      "---\n",
      "make trying to check out now by the more of UNK and even more more in our page\n",
      "---\n",
      "she has teams up with the UNK because of of UNK dance to make me too\n",
      "---\n",
      "when we have taken from new music that serves as part of your ears\n",
      "---\n",
      "with their UNK on by UNK and just a little bit of a bit where id feat\n",
      "---\n",
      "we are back to a brand new remix for what we make managed to take on the track we follow up\n",
      "---\n",
      "artist is serves as a track that will featured on my trying to get away\n",
      "---\n",
      "it sounds like a listened about the track and taken from their artists\n",
      "---\n",
      "a remix of funk we are here at the dark and later this week when its trying his focus on tour\n",
      "---\n",
      "UNK UNK UNK UNK UNK UNK UNK turned into a UNK and serves as an electronic perfection\n",
      "---\n",
      "and will come along with a dream pop young artist will you into a real city\n",
      "---\n",
      "theres something that taken from the guitars and artist s stuck s reminiscent of this banger\n",
      "---\n",
      "in the project and we were trying to focus on her live show\n",
      "---\n",
      "according to the UNK is a different collaborated in this one minute times\n",
      "---\n",
      "artist will take on our best known as it continues will be known as one of the young artists\n",
      "---\n",
      "it comes with one of the track and that has a a trying to look at ft\n",
      "---\n",
      "UNK UNK is teams up of of instruments and indie pop song that manages to off your eyes\n",
      "---\n",
      "artist has a voice of him in the beats and a trying to get your beats\n",
      "---\n",
      "that goes listening to the remix of UNK UNK UNK here at their radar\n",
      "---\n",
      "UNK dropped a bit of trying to give it into a few months ago they right now\n",
      "---\n",
      "in the remix of UNK has been trying to take on my player below\n",
      "---\n",
      "in soon as part of the as here i turned into los angeles based ca\n",
      "---\n",
      "a departure from year and that continues to to their feel to a perfectly with good style\n",
      "---\n",
      "artist continues to stripped back in the UNK and just in one of years since since since\n",
      "---\n",
      "listened to co written and UNK continues to this one of the even though theres no one\n",
      "---\n",
      "UNK is continues to take of their more shows on the remix of few months\n",
      "---\n",
      "artist has been on the life and along on brand new video for a few times\n",
      "---\n",
      "four remix of UNK weve giving featured in the likes of songs and its black tracks\n",
      "---\n",
      "its the way to kick back and if be looking some for alone\n",
      "---\n",
      "artist has been featured on the UNK continues that this new remix of lana bliss\n",
      "---\n",
      "UNK and he dropped a official video for a fact that they kind of pleasure\n",
      "---\n",
      "artist is is familiar with that melodies and away from the london old producer\n",
      "---\n",
      "artist check is today and listen for the more the indie pop better known as good\n",
      "---\n",
      "along to a one of the shows later this year and he continues to the creative francisco\n",
      "---\n",
      "have known has such a stuck for the music and serves as one of my festival\n",
      "---\n",
      "this song was inspired of artist gives comes along is continues to put out in the right where we cant perfection\n",
      "---\n",
      "its are the vocals to UNK and this is perfect for and the vocals are not be very next\n",
      "---\n",
      "no music thanks to the track and sort of coupled with their previous times\n",
      "---\n",
      "in a listen with four UNK and this one of our favorite world\n",
      "---\n",
      "in fact that artist has be made for a UNK and look at UNK page\n",
      "---\n",
      "UNK UNK artist has been working on his new album that he was going on fire\n",
      "---\n",
      "the new remix of electro pop and you are no stuck in the obsessed under every tracks\n",
      "---\n",
      "in the right here and the know that he played in the lot of artist more affair\n",
      "---\n",
      "according to a deal with this UNK which will be inspired on the based UNK and its pmr records\n",
      "---\n",
      "UNK in the UNK UNK UNK with a remix of UNK will take on my head\n",
      "---\n",
      "by ago you might be one before the track which be remixed by before before\n",
      "---\n",
      "with a acoustic here and UNK which as part of the lead single from s black feat\n",
      "---\n",
      "in the UNK UNK UNK trying to give it into a layers of synths and pop synths\n"
     ]
    },
    {
     "name": "stdout",
     "output_type": "stream",
     "text": [
      "---\n",
      "artist has been return with the one of the record and are trying to look at the way my way\n",
      "---\n",
      "UNK UNK UNK UNK UNK UNK UNK UNK is one on the soundtrack for our youtube feat\n",
      "---\n",
      "the la based electro pop aka UNK could have featured on the cover of their electro pop\n",
      "---\n",
      "the first track from your album right here to get along with a big kind of late here\n",
      "---\n",
      "artist is teams up with the nu disco percussion cant get stuck in the late night\n"
     ]
    }
   ],
   "source": [
    "from pathlib import Path\n",
    "vae_dir = Path('../../pytorch-text-vae') # https://github.com/iconix/pytorch-text-vae\n",
    "\n",
    "n_samples = 100\n",
    "temp = 0.2\n",
    "\n",
    "%run -i $vae_dir/generate.py $vae_dir/reviews_sentences_state.pt reviews_sentences_stored_info.pkl --cache-path=$vae_dir/tmp --num-sample=$n_samples --temp=$temp"
   ]
  },
  {
   "cell_type": "code",
   "execution_count": 4,
   "metadata": {},
   "outputs": [
    {
     "data": {
      "text/plain": [
       "[(0, 'there is a one of synth synth and and will be from their previous work'),\n",
       " (1,\n",
       "  'artist who continues to come along with the vocals and the gearing trying to look at every moment'),\n",
       " (2,\n",
       "  'artist listening to it comes along with the rest of artist and lana bliss'),\n",
       " (3,\n",
       "  'he continues to look at the release of the mash artist and a nu s disco'),\n",
       " (4,\n",
       "  'artist has come into a new mix of UNK and the UNK and has mash on more lately'),\n",
       " (5,\n",
       "  'artist will be going will take on the below and i look at the link below'),\n",
       " (6,\n",
       "  'as speaking of the track which of UNK and trying to come them as a version of UNK or guitar'),\n",
       " (7,\n",
       "  'artist is for a new single called day know how we will going on the track below or feat'),\n",
       " (8,\n",
       "  'in the sort an indie pop music though we we lost in making music even more of of more lyrics'),\n",
       " (9, 'soon as part of the past week when hes released on your side'),\n",
       " (10,\n",
       "  'swedish producer UNK has managed to hit along with all also soundtrack to UNK your white feat'),\n",
       " (11,\n",
       "  'we got a long as one of the years and put it into an eye about these times'),\n",
       " (12,\n",
       "  'back to the UNK UNK due UNK as well as the duo who has put out on a UNK records'),\n",
       " (13, 'part of this song taken from the UNK and i im known for her new album'),\n",
       " (14, 'artist have as a reminiscent of what we look not the end'),\n",
       " (15,\n",
       "  'the dance UNK aka artist is one of swirling synths and atmospheric synths'),\n",
       " (16, 'as a part of this UNK as a return to the track as well as date'),\n",
       " (17,\n",
       "  'listen to house UNK who has taken from the vocals along with both line'),\n",
       " (18, 'and we have have a new trying to come serves call it perfection'),\n",
       " (19, 'after a cover of UNK and UNK trying to give it for some emotions'),\n",
       " (20, 'UNK is part of los angeles based of los san where we recently'),\n",
       " (21,\n",
       "  'artist is inspired by the stuck in even like it is here and theres no alone'),\n",
       " (22,\n",
       "  'new track producer artist is back by the reminiscent of a few years and thats from our story'),\n",
       " (23, 'as part of our first time artist will be part in his first show'),\n",
       " (24,\n",
       "  'the UNK managed to come along with the kind of track and departure from their heights'),\n",
       " (25,\n",
       "  'talking about the song when you wanted to give it it a bit of about about date'),\n",
       " (26,\n",
       "  'according to official remix here at the the time we to make such the creative storm'),\n",
       " (27,\n",
       "  'the kind of piece that is takes away from UNK from the kind of trying to look at world'),\n",
       " (28,\n",
       "  'artist is back with a UNK UNK UNK take on a tropical house track i am feat'),\n",
       " (29,\n",
       "  'this one way to mash up and long as one of the band that listened to their success'),\n",
       " (30,\n",
       "  'UNK could have mash featured in UNK UNK and UNK is one of his year or stripped down below'),\n",
       " (31,\n",
       "  'their latest single from artist have seems to be known as a rework of it its perfection'),\n",
       " (32,\n",
       "  'artist are according to a new music along with try and stuck in the artist s disco name'),\n",
       " (33,\n",
       "  'when it with even more stuck in the track your head she does it better'),\n",
       " (34,\n",
       "  'i wanted to be one of the last week and he it on a final version of artist s fire'),\n",
       " (35,\n",
       "  'artist has a a similar to the musical stuck in this ep and song to its very good'),\n",
       " (36,\n",
       "  'if youre trying to theres a listen to the UNK and im were pretty fashion'),\n",
       " (37,\n",
       "  'and with a known for the ep which comes in the rest of record UNK date'),\n",
       " (38, 'he takes on the preview of a new song along with two tracks'),\n",
       " (39,\n",
       "  'one of two night and the remix which will be mash remixed by late san where they festival'),\n",
       " (40,\n",
       "  'you can give comes out of the indie pop which i love because its a little feat'),\n",
       " (41,\n",
       "  'in the part of UNK and be trying to be just as an first UNK via our website'),\n",
       " (42,\n",
       "  'the artist who were looking for the tracks a listen to the rest of their previous tracks'),\n",
       " (43, 'UNK is taken from the type of artists who has such a quite too'),\n",
       " (44, 'artist theres a bit big things and taken from their debut london'),\n",
       " (45, 'the UNK is here and with a dance music must pretty need to come out'),\n",
       " (46, 'i want to be out to the likes of UNK and which comes in my scene'),\n",
       " (47,\n",
       "  'return with a sophomore album if we can be known for their tour website'),\n",
       " (48,\n",
       "  'make trying to check out now by the more of UNK and even more more in our page'),\n",
       " (49, 'she has teams up with the UNK because of of UNK dance to make me too'),\n",
       " (50, 'when we have taken from new music that serves as part of your ears'),\n",
       " (51, 'with their UNK on by UNK and just a little bit of a bit where id feat'),\n",
       " (52,\n",
       "  'we are back to a brand new remix for what we make managed to take on the track we follow up'),\n",
       " (53,\n",
       "  'artist is serves as a track that will featured on my trying to get away'),\n",
       " (54,\n",
       "  'it sounds like a listened about the track and taken from their artists'),\n",
       " (55,\n",
       "  'a remix of funk we are here at the dark and later this week when its trying his focus on tour'),\n",
       " (56,\n",
       "  'UNK UNK UNK UNK UNK UNK UNK turned into a UNK and serves as an electronic perfection'),\n",
       " (57,\n",
       "  'and will come along with a dream pop young artist will you into a real city'),\n",
       " (58,\n",
       "  'theres something that taken from the guitars and artist s stuck s reminiscent of this banger'),\n",
       " (59, 'in the project and we were trying to focus on her live show'),\n",
       " (60,\n",
       "  'according to the UNK is a different collaborated in this one minute times'),\n",
       " (61,\n",
       "  'artist will take on our best known as it continues will be known as one of the young artists'),\n",
       " (62, 'it comes with one of the track and that has a a trying to look at ft'),\n",
       " (63,\n",
       "  'UNK UNK is teams up of of instruments and indie pop song that manages to off your eyes'),\n",
       " (64, 'artist has a voice of him in the beats and a trying to get your beats'),\n",
       " (65, 'that goes listening to the remix of UNK UNK UNK here at their radar'),\n",
       " (66,\n",
       "  'UNK dropped a bit of trying to give it into a few months ago they right now'),\n",
       " (67, 'in the remix of UNK has been trying to take on my player below'),\n",
       " (68, 'in soon as part of the as here i turned into los angeles based ca'),\n",
       " (69,\n",
       "  'a departure from year and that continues to to their feel to a perfectly with good style'),\n",
       " (70,\n",
       "  'artist continues to stripped back in the UNK and just in one of years since since since'),\n",
       " (71,\n",
       "  'listened to co written and UNK continues to this one of the even though theres no one'),\n",
       " (72,\n",
       "  'UNK is continues to take of their more shows on the remix of few months'),\n",
       " (73,\n",
       "  'artist has been on the life and along on brand new video for a few times'),\n",
       " (74,\n",
       "  'four remix of UNK weve giving featured in the likes of songs and its black tracks'),\n",
       " (75, 'its the way to kick back and if be looking some for alone'),\n",
       " (76,\n",
       "  'artist has been featured on the UNK continues that this new remix of lana bliss'),\n",
       " (77,\n",
       "  'UNK and he dropped a official video for a fact that they kind of pleasure'),\n",
       " (78,\n",
       "  'artist is is familiar with that melodies and away from the london old producer'),\n",
       " (79,\n",
       "  'artist check is today and listen for the more the indie pop better known as good'),\n",
       " (80,\n",
       "  'along to a one of the shows later this year and he continues to the creative francisco'),\n",
       " (81,\n",
       "  'have known has such a stuck for the music and serves as one of my festival'),\n",
       " (82,\n",
       "  'this song was inspired of artist gives comes along is continues to put out in the right where we cant perfection'),\n",
       " (83,\n",
       "  'its are the vocals to UNK and this is perfect for and the vocals are not be very next'),\n",
       " (84,\n",
       "  'no music thanks to the track and sort of coupled with their previous times'),\n",
       " (85, 'in a listen with four UNK and this one of our favorite world'),\n",
       " (86, 'in fact that artist has be made for a UNK and look at UNK page'),\n",
       " (87,\n",
       "  'UNK UNK artist has been working on his new album that he was going on fire'),\n",
       " (88,\n",
       "  'the new remix of electro pop and you are no stuck in the obsessed under every tracks'),\n",
       " (89,\n",
       "  'in the right here and the know that he played in the lot of artist more affair'),\n",
       " (90,\n",
       "  'according to a deal with this UNK which will be inspired on the based UNK and its pmr records'),\n",
       " (91, 'UNK in the UNK UNK UNK with a remix of UNK will take on my head'),\n",
       " (92,\n",
       "  'by ago you might be one before the track which be remixed by before before'),\n",
       " (93,\n",
       "  'with a acoustic here and UNK which as part of the lead single from s black feat'),\n",
       " (94,\n",
       "  'in the UNK UNK UNK trying to give it into a layers of synths and pop synths'),\n",
       " (95,\n",
       "  'artist has been return with the one of the record and are trying to look at the way my way'),\n",
       " (96,\n",
       "  'UNK UNK UNK UNK UNK UNK UNK UNK is one on the soundtrack for our youtube feat'),\n",
       " (97,\n",
       "  'the la based electro pop aka UNK could have featured on the cover of their electro pop'),\n",
       " (98,\n",
       "  'the first track from your album right here to get along with a big kind of late here'),\n",
       " (99,\n",
       "  'artist is teams up with the nu disco percussion cant get stuck in the late night')]"
      ]
     },
     "execution_count": 4,
     "metadata": {},
     "output_type": "execute_result"
    }
   ],
   "source": [
    "list(zip(range(len(gens)), gens))"
   ]
  },
  {
   "cell_type": "code",
   "execution_count": 5,
   "metadata": {},
   "outputs": [
    {
     "data": {
      "text/plain": [
       "array([-1, -1, -1, -1, -1,  1, -1,  1, -1, -1, -1, -1, -1, -1, -1, -1, -1,\n",
       "       -1, -1, -1, -1, -1, -1, -1, -1, -1, -1, -1, -1, -1,  1, -1, -1, -1,\n",
       "       -1, -1, -1, -1, -1, -1, -1, -1, -1, -1, -1, -1, -1, -1, -1, -1, -1,\n",
       "       -1, -1, -1, -1, -1, -1, -1, -1, -1, -1, -1, -1, -1, -1, -1, -1,  1,\n",
       "       -1, -1, -1, -1, -1, -1, -1, -1, -1, -1, -1, -1, -1, -1, -1, -1, -1,\n",
       "       -1, -1, -1, -1, -1, -1, -1, -1, -1, -1, -1, -1, -1, -1, -1])"
      ]
     },
     "execution_count": 5,
     "metadata": {},
     "output_type": "execute_result"
    }
   ],
   "source": [
    "#new_labels = np.array([(1, -1), (10, -1)])\n",
    "\n",
    "# -1 is \"bad\" because it contains a banned word, 1 is \"good\"\n",
    "banned = ['below']\n",
    "labels = np.ones(n_samples, dtype=int)\n",
    "gens_lose = set([i for b in banned for i in np.where([b in g.split() for g in gens])[0]])\n",
    "gens_keep = list(set(range(len(gens))) - gens_lose)\n",
    "labels[gens_keep] = -1\n",
    "zs_keep = zs\n",
    "\n",
    "labels"
   ]
  },
  {
   "cell_type": "code",
   "execution_count": 6,
   "metadata": {},
   "outputs": [],
   "source": [
    "#labels = np.concatenate((labels, new_labels))\n",
    "#gens_keep = np.concatenate((gens_keep, np.array(gens)[np.array([i for i, l in new_labels])]))\n",
    "#zs_keep = np.concatenate((zs_keep, np.array([z.cpu().numpy() for z in zs])[np.array([i for i, l in new_labels])]))\n",
    "\n",
    "#gens_keep"
   ]
  },
  {
   "cell_type": "code",
   "execution_count": 7,
   "metadata": {},
   "outputs": [],
   "source": [
    "#gens_keep.shape, zs_keep.shape, labels.shape"
   ]
  },
  {
   "cell_type": "code",
   "execution_count": 8,
   "metadata": {},
   "outputs": [],
   "source": [
    "#np.get_printoptions()"
   ]
  },
  {
   "cell_type": "code",
   "execution_count": 9,
   "metadata": {},
   "outputs": [],
   "source": [
    "#np.set_printoptions(threshold=np.inf)\n",
    "#zs_keep"
   ]
  },
  {
   "cell_type": "code",
   "execution_count": 10,
   "metadata": {},
   "outputs": [],
   "source": [
    "# -1 is \"bad\", 1 is \"good\"\n",
    "#labels = np.ones(n_samples)\n",
    "\n",
    "# for now, make up some random labels\n",
    "#np.random.seed(42)\n",
    "#ones = np.random.rand(n_samples) < 0.2\n",
    "#labels[ones] = -1\n",
    "\n",
    "#labels = np.array([l for i, l in labels], dtype=float)\n",
    "#labels"
   ]
  },
  {
   "cell_type": "code",
   "execution_count": 11,
   "metadata": {},
   "outputs": [
    {
     "data": {
      "text/plain": [
       "([('below', 5)],\n",
       " [('the', 98),\n",
       "  ('UNK', 86),\n",
       "  ('of', 74),\n",
       "  ('and', 62),\n",
       "  ('to', 61),\n",
       "  ('a', 60),\n",
       "  ('artist', 36),\n",
       "  ('in', 29),\n",
       "  ('with', 26),\n",
       "  ('on', 25),\n",
       "  ('as', 25),\n",
       "  ('is', 23),\n",
       "  ('one', 20),\n",
       "  ('be', 17),\n",
       "  ('from', 17),\n",
       "  ('trying', 17),\n",
       "  ('has', 17),\n",
       "  ('it', 16),\n",
       "  ('we', 16),\n",
       "  ('for', 15),\n",
       "  ('that', 15),\n",
       "  ('their', 14),\n",
       "  ('track', 14),\n",
       "  ('this', 14),\n",
       "  ('will', 13)])"
      ]
     },
     "execution_count": 11,
     "metadata": {},
     "output_type": "execute_result"
    }
   ],
   "source": [
    "from collections import Counter\n",
    "c1 = Counter([word for gen in gens for word in gen.split()])\n",
    "[(b, c1[b]) for b in banned], c1.most_common(25)"
   ]
  },
  {
   "cell_type": "markdown",
   "metadata": {},
   "source": [
    "## Data"
   ]
  },
  {
   "cell_type": "code",
   "execution_count": 12,
   "metadata": {},
   "outputs": [],
   "source": [
    "batch_size = 16"
   ]
  },
  {
   "cell_type": "code",
   "execution_count": 13,
   "metadata": {},
   "outputs": [],
   "source": [
    "from fastai.dataset import *\n",
    "\n",
    "class LatentDataset(Dataset):\n",
    "    def __init__(self, x, y): self.x,self.y = x,y\n",
    "    def __getitem__(self, idx): return A(self.x[idx], self.y[idx])\n",
    "    def __len__(self): return len(self.x)\n",
    "    \n",
    "ds = LatentDataset(zs_keep, labels.astype(float))\n",
    "dl = DataLoader(ds, batch_size)\n",
    "md = ModelData('.', dl, None)"
   ]
  },
  {
   "cell_type": "code",
   "execution_count": 14,
   "metadata": {},
   "outputs": [
    {
     "data": {
      "text/plain": [
       "[array([[-1.41267, -0.31883,  0.5313 ,  0.58262, -0.50945,  1.47321, -1.20368, -0.41302,  0.02329,  0.30825,\n",
       "          0.58677, -0.59381,  1.08877, -0.75519, -0.65374, -2.59229, -0.62915, -0.28631, -0.10457,  2.32935,\n",
       "          0.47541,  1.22917, -0.30757,  1.09619, -0.70228, -0.16351,  0.46556,  0.17515,  0.56253,  1.08933,\n",
       "         -2.38834,  0.63997,  1.13505,  0.90841,  2.31919,  1.02084, -1.11749, -0.47312,  0.30283,  0.63565,\n",
       "         -0.45139, -0.58845,  0.21838,  0.73886,  0.9245 ,  0.85827,  0.35686, -0.27496,  0.31194,  0.96879,\n",
       "          0.67177,  0.43427,  0.55612,  0.19467, -0.0795 ,  1.2753 ,  1.04369,  0.17302,  1.24513, -1.09378,\n",
       "          0.42322, -1.26422,  0.84987, -0.67009,  0.27917,  1.32686, -0.69538, -0.8589 ,  0.90375, -0.75259,\n",
       "         -0.51699,  1.57829, -0.50048,  0.69828, -1.87919, -1.06044,  1.27093,  0.16094,  0.14646,  0.6237 ,\n",
       "         -0.90125, -2.10465, -0.94218,  0.34538, -1.82606,  3.50424,  0.30298,  0.15515, -0.55099,  0.63468,\n",
       "          0.36419, -0.39613, -0.22783, -2.47112,  0.40631, -0.10308, -1.10443, -0.911  ,  0.97713, -1.4597 ,\n",
       "          0.25669, -0.72318, -0.08591,  0.88037, -0.52092,  2.54764,  1.81535,  0.81887, -2.04669, -0.337  ,\n",
       "         -0.7747 , -0.06014,  0.59418,  0.14586, -0.10619,  0.42216,  0.33606,  0.55427,  0.78857,  0.92989,\n",
       "         -0.67531,  0.29429,  1.46598, -1.05555, -0.16446, -1.16834, -1.26544,  0.12993]], dtype=float32),\n",
       " array(-1.)]"
      ]
     },
     "execution_count": 14,
     "metadata": {},
     "output_type": "execute_result"
    }
   ],
   "source": [
    "md.trn_ds[0]"
   ]
  },
  {
   "cell_type": "markdown",
   "metadata": {},
   "source": [
    "## Model"
   ]
  },
  {
   "cell_type": "code",
   "execution_count": 15,
   "metadata": {},
   "outputs": [],
   "source": [
    "n_latent = 128\n",
    "n_hidden = 1024\n",
    "lr = 3e-4"
   ]
  },
  {
   "cell_type": "code",
   "execution_count": 16,
   "metadata": {},
   "outputs": [],
   "source": [
    "import torch.optim as optim\n",
    "import torch.nn as nn\n",
    "\n",
    "class LCGAN_D(nn.Module):\n",
    "    '''Discriminator'''\n",
    "    def __init__(self, n_latent, n_hidden=n_hidden, n_output=1):\n",
    "        super(LCGAN_D, self).__init__()\n",
    "        \n",
    "        self.i2h = nn.Linear(n_latent, n_hidden)\n",
    "        self.h2h = nn.Linear(n_hidden, n_hidden)\n",
    "        self.h2o = nn.Linear(n_hidden, n_output)\n",
    "        \n",
    "        self.relu = nn.ReLU()\n",
    "        self.sigmoid = nn.Sigmoid()\n",
    "        \n",
    "    def forward(self, z):\n",
    "        x = z\n",
    "        x = self.relu(self.i2h(x))\n",
    "        x = self.relu(self.h2h(x))\n",
    "        x = self.relu(self.h2h(x))\n",
    "        v = self.sigmoid(self.h2o(x))\n",
    "        \n",
    "        return v\n",
    "\n",
    "class LCGAN_G(nn.Module):\n",
    "    '''Generator'''\n",
    "    def __init__(self, n_latent, n_hidden=n_hidden):\n",
    "        super(LCGAN_G, self).__init__()\n",
    "        self.n_latent = n_latent\n",
    "        \n",
    "        self.i2h = nn.Linear(n_latent, n_hidden)\n",
    "        self.h2h = nn.Linear(n_hidden, n_hidden)\n",
    "        # hidden-to-gating mechanism\n",
    "        self.h2g = nn.Linear(n_hidden, 2*n_latent)\n",
    "        \n",
    "        self.relu = nn.ReLU()\n",
    "        self.sigmoid = nn.Sigmoid()\n",
    "        \n",
    "    def forward(self, z):\n",
    "        x = z\n",
    "        x = self.relu(self.i2h(x))\n",
    "        x = self.relu(self.h2h(x))\n",
    "        x = self.relu(self.h2h(x))\n",
    "        x = self.h2g(x)\n",
    "        \n",
    "        # gating mechanism: allow network to remember/forget\n",
    "        # what it wants to about the original z and x\n",
    "        z_mid = x[:, self.n_latent:]\n",
    "        gates = self.sigmoid(x[:, :self.n_latent])\n",
    "        dz = gates * z_mid # TODO: why naming?\n",
    "        z_prime = (1 - gates)*z + dz\n",
    "        \n",
    "        return z_prime"
   ]
  },
  {
   "cell_type": "code",
   "execution_count": 17,
   "metadata": {},
   "outputs": [],
   "source": [
    "class LCGAN(nn.Module):\n",
    "    def __init__(self, D, G, batch_size=batch_size):\n",
    "        super(LCGAN, self).__init__()\n",
    "        self.batch_size = batch_size\n",
    "        \n",
    "        self.D = D\n",
    "        self.G = G\n",
    "\n",
    "    def train(self):\n",
    "        self.D.train()\n",
    "        self.G.train()\n",
    "        \n",
    "    def forward(self, z=None):       \n",
    "        if z is not None:\n",
    "            # train discriminator\n",
    "            v = self.D(z)\n",
    "            return v\n",
    "        else: # train GAN\n",
    "            # gaussian random noise\n",
    "            z_prior = torch.randn(self.batch_size, self.G.n_latent).cuda()\n",
    "            \n",
    "            z_prime = self.G(z_prior)\n",
    "            v_prime = self.D(z_prime)\n",
    "            \n",
    "            return v_prime"
   ]
  },
  {
   "cell_type": "markdown",
   "metadata": {},
   "source": [
    "## Training"
   ]
  },
  {
   "cell_type": "code",
   "execution_count": 18,
   "metadata": {},
   "outputs": [],
   "source": [
    "gan = LCGAN(LCGAN_D(n_latent), LCGAN_G(n_latent)).cuda()"
   ]
  },
  {
   "cell_type": "code",
   "execution_count": 19,
   "metadata": {},
   "outputs": [],
   "source": [
    "import fastai as fast\n",
    "\n",
    "fast.core.set_trainable(gan.D, True)\n",
    "fast.core.set_trainable(gan.G, True)\n",
    "\n",
    "opt_d = optim.Adam(gan.D.parameters(), lr=lr)\n",
    "opt_g = optim.Adam(gan.G.parameters(), lr=lr)"
   ]
  },
  {
   "cell_type": "code",
   "execution_count": 20,
   "metadata": {},
   "outputs": [
    {
     "data": {
      "text/plain": [
       "'looking for a listen for the UNK but they the gearing up for coming alone'"
      ]
     },
     "execution_count": 20,
     "metadata": {},
     "output_type": "execute_result"
    }
   ],
   "source": [
    "# test what the GAN is doing before any training\n",
    "\n",
    "def generate(z):\n",
    "    generated = vae.decoder.generate(z, 50, temp, True)\n",
    "    generated_str = model.float_word_tensor_to_string(output_side, generated)\n",
    "\n",
    "    EOS_str = f' {output_side.index_to_word(torch.LongTensor([EOS_token]))} '\n",
    "\n",
    "    if generated_str.endswith(EOS_str):\n",
    "        generated_str = generated_str[:-5]\n",
    "\n",
    "    # flip it back\n",
    "    return generated_str[::-1]\n",
    "    \n",
    "generate(gan.G(torch.randn(1, n_latent).cuda()))"
   ]
  },
  {
   "cell_type": "code",
   "execution_count": 21,
   "metadata": {},
   "outputs": [
    {
     "name": "stdout",
     "output_type": "stream",
     "text": [
      "in the release of UNK and serves as a listen to his first feat\n",
      "he back with a remix of UNK and the manages to UNK UNK times\n",
      "along a serves as one of the UNK has trying to in his first feat\n",
      "one of his debut production where you to to reminiscent of a brand new help because its no matter\n",
      "after listening an artist a stuck in new song because its than feat\n",
      "artist has been back have a UNK or later last UNK and the stuck in their headline show\n",
      "artist to come out of a week and and them of new taken from last times\n",
      "artist trying to stripped work in house where are gearing up with a few alone\n",
      "it seems would be taken from the music and as part such a look at times\n",
      "UNK producer UNK is and in the sort of trying to come along with an last times\n"
     ]
    }
   ],
   "source": [
    "for i in range(10):\n",
    "    print(generate(gan.G(torch.randn(1, n_latent).cuda())))"
   ]
  },
  {
   "cell_type": "code",
   "execution_count": 22,
   "metadata": {},
   "outputs": [],
   "source": [
    "#from tqdm import tqdm\n",
    "\n",
    "# adapted from: https://github.com/fastai/fastai/blob/master/courses/dl2/wgan.ipynb\n",
    "def train(n_iter, alternate=False, first=False):\n",
    "    gen_iters = 0\n",
    "    for epoch in trange(n_iter):\n",
    "        gan.train()\n",
    "        data_iter = iter(md.trn_dl)\n",
    "        i, n = 0, len(md.trn_dl)\n",
    "        \n",
    "        def train_G():\n",
    "            ''' Train generator '''\n",
    "            nonlocal gen_iters\n",
    "            \n",
    "            fast.core.set_trainable(gan.D, False)\n",
    "            fast.core.set_trainable(gan.G, True)\n",
    "\n",
    "            gan.G.zero_grad()\n",
    "\n",
    "            #print(i, n)\n",
    "            loss_g = - torch.log(gan()).mean()\n",
    "            loss_g.backward()\n",
    "            opt_g.step()\n",
    "            gen_iters += 1\n",
    "            \n",
    "            return loss_g\n",
    "\n",
    "        def train_D():\n",
    "            ''' Train discriminator '''\n",
    "            nonlocal i\n",
    "            \n",
    "            fast.core.set_trainable(gan.D, True)\n",
    "            fast.core.set_trainable(gan.G, False)\n",
    "            d_iters = 100 if (first and (gen_iters < 25) or (gen_iters % 500 == 0)) else 3\n",
    "            j = 0\n",
    "\n",
    "            while (j < d_iters) and (i < n):\n",
    "                j += 1; i += 1\n",
    "                batch = next(data_iter)\n",
    "                #print(j, i, batch[0].size(), batch[1].size())\n",
    "                z_real = batch[0].cuda()\n",
    "                v = gan(z_real)\n",
    "\n",
    "                gan.D.zero_grad()\n",
    "\n",
    "                loss_d = - (batch[1] * torch.log(v) + (1.0-batch[1]) * torch.log(1.0 - v)).mean()\n",
    "                loss_d.backward()\n",
    "                opt_d.step()\n",
    "                \n",
    "                pbar.update()\n",
    "                \n",
    "            return loss_d\n",
    "        \n",
    "        with tqdm(total=n) as pbar:\n",
    "            while i < n:\n",
    "                if alternate:\n",
    "                    # train discriminator\n",
    "                    loss_d = train_D()\n",
    "                    # then train generator a little bit\n",
    "                    loss_g = train_G()\n",
    "                else:\n",
    "                    # train generator only\n",
    "                    i += 1\n",
    "                    loss_g = train_G()\n",
    "                    pbar.update()\n",
    "        \n",
    "        if alternate:\n",
    "            print(f'Loss_D {to_np(loss_d)}; Loss_G {to_np(loss_g)}; ')\n",
    "        else:\n",
    "            print(f'Loss_G {to_np(loss_g)}; ')"
   ]
  },
  {
   "cell_type": "code",
   "execution_count": 23,
   "metadata": {},
   "outputs": [],
   "source": [
    "def train_and_generate(gan, n_epoch, alternate=False, n_sample=10):\n",
    "    train(n_epoch, alternate)\n",
    "    for i in range(n_sample):\n",
    "        print(generate(gan.G(torch.randn(1, n_latent).cuda())))"
   ]
  },
  {
   "cell_type": "code",
   "execution_count": 24,
   "metadata": {},
   "outputs": [
    {
     "name": "stdout",
     "output_type": "stream",
     "text": [
      "100%|██████████| 7/7 [00:00<00:00, 235.22it/s]\n",
      "Loss_D -3.201712131500244; Loss_G 2.297457218170166; \n",
      "below and according to a new version of the UNK which is just under our ago\n",
      "artist has to teams up with UNK and one of the track be taken from our show\n",
      "speaking of the track taken from UNK and a track to be taken from now i times\n",
      "artist has been listening to the UNK and dose of what will take under his times\n",
      "artist is gearing up with the sort of songs their ready for many times\n",
      "artist has a listening of the UNK and thats exactly what i again\n",
      "UNK are continues to take on a brand new UNK and we just listen from your than feat\n",
      "UNK continues to is such a bit of artist and stuck in the rather as feat\n",
      "as part of here and listening to a brand new track that theres no feat\n",
      "artist has continues to serves as a cover of even when it comes in my store\n"
     ]
    }
   ],
   "source": [
    "train_and_generate(gan, 1, alternate=True)"
   ]
  },
  {
   "cell_type": "code",
   "execution_count": 25,
   "metadata": {},
   "outputs": [
    {
     "name": "stdout",
     "output_type": "stream",
     "text": [
      "100%|██████████| 7/7 [00:00<00:00, 422.44it/s]\n",
      "Loss_G 1.7765755653381348; \n",
      "recorded in the dose of managed to giving it into a few times\n",
      "artist has to a serves as remix of the week and it would be taken from any feat\n",
      "it comes to a fresh a stuck in the thank you grab your show\n",
      "you with a remix of UNK and of trying to get stuck under your head\n",
      "and serves to a remix of artist who has to the stuck in city\n",
      "it feels gets a remix of UNK and a perfect trying to look at times\n",
      "according to a a remix of artist who and take on the yourself last store\n",
      "UNK is one of the knack for trying to get a white feat\n",
      "manages to serves as part of the right now and lost in the new york city\n",
      "UNK to a part of the single below and single from free feat\n"
     ]
    }
   ],
   "source": [
    "train_and_generate(gan, 1)"
   ]
  },
  {
   "cell_type": "code",
   "execution_count": 26,
   "metadata": {},
   "outputs": [
    {
     "name": "stdout",
     "output_type": "stream",
     "text": [
      "100%|██████████| 7/7 [00:00<00:00, 414.45it/s]\n",
      "Loss_G 1.352441430091858; \n",
      "it seems dropped a remix of UNK and the and will take on your coming feat\n",
      "artist back to a long as part of the track and blown taken from their at times\n",
      "and serves and one of soulful track from trying to for a many feat\n",
      "the UNK and a sort is trying to look at the few times\n",
      "as part of of UNK and as a listen get an pretty times\n",
      "according to to UNK with a remix of the that will take on your at times\n",
      "artist continues to long as part of the track and blown away a previous times\n",
      "the remix of UNK and and take on a new trying to or feat\n",
      "UNK has taken from the UNK and a sort of trying to look from any times\n",
      "as part of the UNK and will take on your at feat\n"
     ]
    }
   ],
   "source": [
    "train_and_generate(gan, 1)"
   ]
  },
  {
   "cell_type": "code",
   "execution_count": 27,
   "metadata": {},
   "outputs": [
    {
     "name": "stdout",
     "output_type": "stream",
     "text": [
      "100%|██████████| 7/7 [00:00<00:00, 419.45it/s]\n",
      "Loss_G 1.0633442401885986; \n",
      "artist has a be blown away of UNK and the better known for many feat\n",
      "as a UNK and trying to be one of the UNK and from no feat\n",
      "it seems to be such as part of artist and the stuck on your four feat\n",
      "as one of the UNK and it would and taken from your every feat\n",
      "serves as one of the UNK as a listen to your many feat\n",
      "artist is teams up with the remix of deep UNK and you to be departure from every feat\n",
      "artist artist continues to long as part of the life and taken from their live feat\n",
      "artist is a listen in the kind the track and taken from their portland every feat\n",
      "artist continues a long as part of the week and and some departure from every feat\n",
      "as one of the UNK and a the trying to look theres every feat\n"
     ]
    }
   ],
   "source": [
    "train_and_generate(gan, 1)"
   ]
  },
  {
   "cell_type": "code",
   "execution_count": 28,
   "metadata": {},
   "outputs": [
    {
     "data": {
      "text/plain": [
       "([('below', 2)],\n",
       " [('the', 109),\n",
       "  ('and', 96),\n",
       "  ('feat', 96),\n",
       "  ('of', 93),\n",
       "  ('to', 90),\n",
       "  ('UNK', 85),\n",
       "  ('a', 58),\n",
       "  ('one', 57),\n",
       "  ('as', 57),\n",
       "  ('from', 54),\n",
       "  ('every', 44),\n",
       "  ('artist', 36),\n",
       "  ('trying', 31),\n",
       "  ('taken', 31),\n",
       "  ('track', 26),\n",
       "  ('it', 24),\n",
       "  ('is', 23),\n",
       "  ('be', 23),\n",
       "  ('serves', 21),\n",
       "  ('your', 20),\n",
       "  ('on', 18),\n",
       "  ('with', 17),\n",
       "  ('take', 17),\n",
       "  ('would', 16),\n",
       "  ('continues', 14)])"
      ]
     },
     "execution_count": 28,
     "metadata": {},
     "output_type": "execute_result"
    }
   ],
   "source": [
    "g2 = []\n",
    "\n",
    "for i in range(100):\n",
    "    g2.append(generate(gan.G(torch.randn(1, n_latent).cuda())))\n",
    "    \n",
    "c2 = Counter([word for gen in g2 for word in gen.split()])\n",
    "[(b, c2[b]) for b in banned], c2.most_common(25)"
   ]
  },
  {
   "cell_type": "code",
   "execution_count": 29,
   "metadata": {},
   "outputs": [
    {
     "name": "stdout",
     "output_type": "stream",
     "text": [
      "100%|██████████| 7/7 [00:00<00:00, 429.50it/s]\n",
      "Loss_G 0.9722763299942017; \n",
      "on this UNK and as one of the trying to give it for many times\n",
      "with a UNK and and as one of the trying to giving us from every times\n",
      "with a UNK and the kind of trying would be taken from your times\n",
      "he continues to serves as one of the UNK and giving us from every feat\n",
      "serves as one of the UNK and a perfect trying to look many feat\n",
      "listened with a new track called UNK and as one of the trying to look many times\n",
      "taken from the UNK and a sort is trying to on your every times\n",
      "i continues to to a UNK and one to the it for at times\n",
      "artist has teams up with a remix of the UNK and it would be taken from many feat\n",
      "with a UNK and serves as one of the trying to give it for many feat\n"
     ]
    }
   ],
   "source": [
    "train_and_generate(gan, 1)"
   ]
  },
  {
   "cell_type": "code",
   "execution_count": 30,
   "metadata": {},
   "outputs": [
    {
     "name": "stdout",
     "output_type": "stream",
     "text": [
      "100%|██████████| 7/7 [00:00<00:00, 425.47it/s]\n",
      "Loss_G 0.9507181644439697; \n",
      "later called UNK and and one of its trying to a departure from every feat\n",
      "artist continues to come along with a UNK and the sort new trying to look at feat\n",
      "artist is back to a right now at the one from their portland no times\n",
      "artist is back in the link below and and as one from their portland every feat\n",
      "away from UNK and the one and a new trying to look real times\n",
      "to UNK and serves as one of the track where you to better known for at feat\n",
      "and UNK is one of of trying to come along with each your times\n",
      "artist continues to serves as part of the track be taken on your every times\n",
      "artist has featured from the sort of trying to give it into a many times\n",
      "i seems to as one of the UNK and soulful track from every times\n"
     ]
    }
   ],
   "source": [
    "train_and_generate(gan, 1)"
   ]
  },
  {
   "cell_type": "code",
   "execution_count": 31,
   "metadata": {},
   "outputs": [
    {
     "name": "stdout",
     "output_type": "stream",
     "text": [
      "100%|██████████| 7/7 [00:00<00:00, 429.03it/s]\n",
      "Loss_G 0.9378024935722351; \n",
      "such as one of the UNK and it would be taken from every feat\n",
      "he back gets a remix of UNK be taken from the ready for at feat\n",
      "artist is according to to serves as one of the UNK and it would be taken from many feat\n",
      "artist has teams up with a one of the UNK and it would be taken from every feat\n",
      "UNK and serves and a sort of trying to look to the stuck in feat\n",
      "with a new remix of UNK artist has been trying will take from the portland every feat\n",
      "artist feels with a UNK as one of the trying might being every feat\n",
      "artist has teams up and a one of the track which was trying to keep your every feat\n",
      "reminiscent of serves as of UNK and listen to the ready for many feat\n",
      "as reminiscent of serves on new UNK a listen to the ready for many feat\n"
     ]
    }
   ],
   "source": [
    "train_and_generate(gan, 1)"
   ]
  },
  {
   "cell_type": "code",
   "execution_count": 32,
   "metadata": {},
   "outputs": [
    {
     "name": "stdout",
     "output_type": "stream",
     "text": [
      "100%|██████████| 7/7 [00:00<00:00, 435.45it/s]\n",
      "Loss_G 0.926938533782959; \n",
      "as one of the UNK and it would be taken from their coming feat\n",
      "according and the reminiscent of the track that will take keep your every feat\n",
      "artist is a UNK and listen on the remix of what i look at your feat\n",
      "artist continues to long as part of the track and blown taken from every feat\n",
      "artist has teams up with a UNK and one of new trying would be taken from every feat\n",
      "as part of the UNK trying to come along with a the trying to look at feat\n",
      "UNK is taken from the sort of trying to give it into an real feat\n",
      "artist is with a taken of the UNK and of trying would be taken from their at times\n",
      "with a UNK and serves as one of the trying to give it keep or times\n",
      "as one of the UNK and it will take keep at every times\n"
     ]
    }
   ],
   "source": [
    "train_and_generate(gan, 1)"
   ]
  },
  {
   "cell_type": "code",
   "execution_count": 33,
   "metadata": {},
   "outputs": [
    {
     "name": "stdout",
     "output_type": "stream",
     "text": [
      "100%|██████████| 7/7 [00:00<00:00, 430.37it/s]\n",
      "Loss_G 0.9276492595672607; \n",
      "with a UNK and remix of the track it be taken from their portland coming feat\n",
      "in the likes of UNK and listened to a new taken on your every feat\n",
      "a new track called UNK and as one of the trying to look theres every feat\n",
      "artist are along with an new remix of UNK and a listen of the UNK theres every feat\n",
      "with an new remix of UNK and a according to the better ready for at feat\n",
      "listen to serves as one of the UNK and it would be taken from every times\n",
      "artist are along with a new track UNK and look of the was trying to keep your feat\n",
      "back to a long a part of link artist and stuck in the along theres every feat\n",
      "right UNK as one of of trying to give it into some every feat\n",
      "serves as a UNK and the sort the trying to look theres every feat\n"
     ]
    }
   ],
   "source": [
    "train_and_generate(gan, 1)"
   ]
  },
  {
   "cell_type": "code",
   "execution_count": 34,
   "metadata": {},
   "outputs": [
    {
     "data": {
      "text/plain": [
       "([('below', 0)],\n",
       " [('the', 104),\n",
       "  ('UNK', 95),\n",
       "  ('of', 92),\n",
       "  ('and', 92),\n",
       "  ('feat', 90),\n",
       "  ('to', 88),\n",
       "  ('a', 72),\n",
       "  ('one', 61),\n",
       "  ('every', 51),\n",
       "  ('trying', 45),\n",
       "  ('as', 42),\n",
       "  ('from', 37),\n",
       "  ('many', 37),\n",
       "  ('it', 32),\n",
       "  ('with', 30),\n",
       "  ('artist', 29),\n",
       "  ('track', 29),\n",
       "  ('taken', 26),\n",
       "  ('is', 24),\n",
       "  ('be', 24),\n",
       "  ('serves', 19),\n",
       "  ('for', 19),\n",
       "  ('look', 18),\n",
       "  ('up', 17),\n",
       "  ('has', 15)])"
      ]
     },
     "execution_count": 34,
     "metadata": {},
     "output_type": "execute_result"
    }
   ],
   "source": [
    "g3 = []\n",
    "\n",
    "for i in range(100):\n",
    "    g3.append(generate(gan.G(torch.randn(1, n_latent).cuda())))\n",
    "    \n",
    "c3 = Counter([word for gen in g3 for word in gen.split()])\n",
    "[(b, c3[b]) for b in banned], c3.most_common(25)"
   ]
  }
 ],
 "metadata": {
  "kernelspec": {
   "display_name": "Python 3",
   "language": "python",
   "name": "python3"
  },
  "language_info": {
   "codemirror_mode": {
    "name": "ipython",
    "version": 3
   },
   "file_extension": ".py",
   "mimetype": "text/x-python",
   "name": "python",
   "nbconvert_exporter": "python",
   "pygments_lexer": "ipython3",
   "version": "3.6.5"
  }
 },
 "nbformat": 4,
 "nbformat_minor": 2
}
