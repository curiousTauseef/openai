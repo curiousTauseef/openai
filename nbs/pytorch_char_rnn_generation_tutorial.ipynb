{
 "cells": [
  {
   "cell_type": "markdown",
   "metadata": {},
   "source": [
    "# Generating Names with a Character-Level RNN\n",
    "https://pytorch.org/tutorials/intermediate/char_rnn_generation_tutorial.html"
   ]
  },
  {
   "cell_type": "markdown",
   "metadata": {},
   "source": [
    "## Prepare the Data\n",
    "\n",
    "`wget https://download.pytorch.org/tutorial/data.zip`\n",
    "\n",
    "`unzip data.zip`\n",
    "\n",
    "`mv data/ names/`"
   ]
  },
  {
   "cell_type": "code",
   "execution_count": 1,
   "metadata": {},
   "outputs": [
    {
     "name": "stdout",
     "output_type": "stream",
     "text": [
      "['../data/names/names/Russian.txt', '../data/names/names/Chinese.txt', '../data/names/names/Greek.txt', '../data/names/names/Vietnamese.txt', '../data/names/names/Spanish.txt', '../data/names/names/Scottish.txt', '../data/names/names/Dutch.txt', '../data/names/names/French.txt', '../data/names/names/Japanese.txt', '../data/names/names/Czech.txt', '../data/names/names/Portuguese.txt', '../data/names/names/Arabic.txt', '../data/names/names/English.txt', '../data/names/names/Korean.txt', '../data/names/names/Italian.txt', '../data/names/names/Polish.txt', '../data/names/names/German.txt', '../data/names/names/Irish.txt']\n",
      "Slusarski\n"
     ]
    }
   ],
   "source": [
    "from io import open\n",
    "import glob\n",
    "\n",
    "def findFiles(path): return glob.glob(path)\n",
    "\n",
    "print(findFiles('../data/names/names/*.txt'))\n",
    "\n",
    "import unicodedata\n",
    "import string\n",
    "\n",
    "all_letters = string.ascii_letters + ' .,;\\''\n",
    "n_letters = len(all_letters)\n",
    "\n",
    "# turn a unicode string to plain ascii, thanks to http://stackoverflow.com/a/518232/2809427\n",
    "def unicodeToAscii(s):\n",
    "    return ''.join(\n",
    "        c for c in unicodedata.normalize('NFD', s)\n",
    "        if unicodedata.category(c) != 'Mn'\n",
    "        and c in all_letters\n",
    "    )\n",
    "\n",
    "print(unicodeToAscii('Ślusàrski'))"
   ]
  },
  {
   "cell_type": "code",
   "execution_count": 2,
   "metadata": {},
   "outputs": [
    {
     "name": "stdout",
     "output_type": "stream",
     "text": [
      "n_categories: 18\n",
      "names per category: [{'Russian': 9408}, {'Chinese': 268}, {'Greek': 203}, {'Vietnamese': 73}, {'Spanish': 298}, {'Scottish': 100}, {'Dutch': 297}, {'French': 277}, {'Japanese': 991}, {'Czech': 519}, {'Portuguese': 74}, {'Arabic': 2000}, {'English': 3668}, {'Korean': 94}, {'Italian': 709}, {'Polish': 139}, {'German': 724}, {'Irish': 232}]\n"
     ]
    }
   ],
   "source": [
    "# build the category_lines dictionary, a list of names per language\n",
    "category_lines = {}\n",
    "all_categories = []\n",
    "\n",
    "# read a file and split into lines\n",
    "def readLines(filename):\n",
    "    lines = open(filename, encoding='utf-8').read().strip().split('\\n')\n",
    "    return [unicodeToAscii(line) for line in lines]\n",
    "\n",
    "for filename in findFiles('../data/names/names/*.txt'):\n",
    "    category = filename.split('/')[-1].split('.')[0]\n",
    "    all_categories.append(category)\n",
    "    lines = readLines(filename)\n",
    "    category_lines[category] = lines\n",
    "    \n",
    "n_categories = len(all_categories)\n",
    "\n",
    "print('n_categories:', n_categories)\n",
    "print('names per category:', [{c: len(category_lines[c])} for c in all_categories])"
   ]
  },
  {
   "cell_type": "code",
   "execution_count": 3,
   "metadata": {},
   "outputs": [
    {
     "data": {
      "text/plain": [
       "['Abandonato', 'Abatangelo', 'Abatantuono', 'Abate', 'Abategiovanni']"
      ]
     },
     "execution_count": 3,
     "metadata": {},
     "output_type": "execute_result"
    }
   ],
   "source": [
    "category_lines['Italian'][:5]"
   ]
  },
  {
   "cell_type": "markdown",
   "metadata": {},
   "source": [
    "## Turning Names and Categories into Tensors\n",
    "\n",
    "Using one-hot encoding, where the input line makes a 2D matrix: `<line_length x 1 x n_letters>`\n",
    "- \"That extra 1 dimension is because PyTorch assumes everything is in batches - we’re just using a batch size of 1 here.\""
   ]
  },
  {
   "cell_type": "code",
   "execution_count": 4,
   "metadata": {},
   "outputs": [
    {
     "name": "stdout",
     "output_type": "stream",
     "text": [
      "---en_tensor---\n",
      "torch.Size([1, 18]) tensor([[ 0.,  0.,  0.,  0.,  0.,  0.,  0.,  0.,  0.,  0.,  0.,  0.,\n",
      "          1.,  0.,  0.,  0.,  0.,  0.]])\n",
      "---j_tensor---\n",
      "torch.Size([1, 1, 57]) tensor([[[ 0.,  0.,  0.,  0.,  0.,  0.,  0.,  0.,  0.,  0.,  0.,\n",
      "           0.,  0.,  0.,  0.,  0.,  0.,  0.,  0.,  0.,  0.,  0.,\n",
      "           0.,  0.,  0.,  0.,  0.,  0.,  0.,  0.,  0.,  0.,  0.,\n",
      "           0.,  0.,  1.,  0.,  0.,  0.,  0.,  0.,  0.,  0.,  0.,\n",
      "           0.,  0.,  0.,  0.,  0.,  0.,  0.,  0.,  0.,  0.,  0.,\n",
      "           0.,  0.]]])\n",
      "---jones_tensor---\n",
      "torch.Size([5, 1, 57])\n",
      "---target_tensor---\n",
      "torch.Size([5]) tensor([ 14,  13,   4,  18,  56])\n"
     ]
    }
   ],
   "source": [
    "import torch\n",
    "\n",
    "# one-hot vector for category\n",
    "def categoryTensor(category):\n",
    "    li = all_categories.index(category)\n",
    "    tensor = torch.zeros(1, n_categories)\n",
    "    tensor[0][li] = 1\n",
    "    return tensor\n",
    "\n",
    "# one-hot matrix of first to last lettters (not including EOS) for input\n",
    "def inputTensor(line):\n",
    "    tensor = torch.zeros(len(line), 1, n_letters) # 1 == batch size\n",
    "    for li in range(len(line)):\n",
    "        letter = line[li]\n",
    "        tensor[li][0][all_letters.find(letter)] = 1\n",
    "    return tensor\n",
    "\n",
    "# LongTensor of second letter to end (EOS) for target\n",
    "def targetTensor(line):\n",
    "    letter_indexes = [all_letters.find(line[li]) for li in range(1, len(line))]\n",
    "    letter_indexes.append(n_letters - 1) # EOS\n",
    "    return torch.LongTensor(letter_indexes)\n",
    "\n",
    "print('---en_tensor---')\n",
    "en_tensor = categoryTensor('English')\n",
    "print(en_tensor.size(), en_tensor)\n",
    "\n",
    "print('---j_tensor---')\n",
    "j_tensor = inputTensor('J')\n",
    "print(j_tensor.size(), j_tensor)\n",
    "\n",
    "print('---jones_tensor---')\n",
    "jones_tensor = inputTensor('Jones')\n",
    "print(jones_tensor.size())\n",
    "\n",
    "print('---target_tensor---')\n",
    "target_tensor = targetTensor('Jones')\n",
    "print(target_tensor.size(), target_tensor)"
   ]
  },
  {
   "cell_type": "markdown",
   "metadata": {},
   "source": [
    "## Creating the Network\n",
    "\n",
    "![](https://i.imgur.com/Z2xbySO.png)\n",
    "\n",
    "Note that `category` is also being concatenated to the `combined` layer."
   ]
  },
  {
   "cell_type": "code",
   "execution_count": 5,
   "metadata": {},
   "outputs": [],
   "source": [
    "import torch.nn as nn\n",
    "\n",
    "class RNN(nn.Module):\n",
    "    def __init__(self, input_size, hidden_size, output_size):\n",
    "        super(RNN, self).__init__()\n",
    "        self.hidden_size = hidden_size\n",
    "        \n",
    "        self.i2h = nn.Linear(n_categories + input_size + hidden_size, hidden_size)\n",
    "        self.i2o = nn.Linear(n_categories + input_size + hidden_size, output_size)\n",
    "        self.softmax = nn.LogSoftmax(dim=1)\n",
    "        \n",
    "    # NOTE: this example only works as-is in PyTorch 0.4+\n",
    "    # https://stackoverflow.com/questions/50475094/runtimeerror-addmm-argument-mat1-position-1-must-be-variable-not-torch\n",
    "    def forward(self, category, input, hidden):\n",
    "        combined = torch.cat((category, input, hidden), 1)\n",
    "        hidden = self.i2h(combined)\n",
    "        output = self.i2o(combined)\n",
    "        output = self.softmax(output)\n",
    "        return output, hidden\n",
    "    \n",
    "    def initHidden(self):\n",
    "        return torch.zeros(1, self.hidden_size) # TODO: why isn't this random?"
   ]
  },
  {
   "cell_type": "markdown",
   "metadata": {},
   "source": [
    "## Training"
   ]
  },
  {
   "cell_type": "code",
   "execution_count": 6,
   "metadata": {},
   "outputs": [],
   "source": [
    "import random\n",
    "\n",
    "# random item from a list\n",
    "def randomChoice(l):\n",
    "    return l[random.randint(0, len(l) - 1)]\n",
    "\n",
    "# get a random category and random line from that category\n",
    "def randomTrainingPair():\n",
    "    category = randomChoice(all_categories)\n",
    "    line = randomChoice(category_lines[category])\n",
    "    return category, line\n",
    "\n",
    "# make category, input, and target tensors from a random category, line pair\n",
    "def randomTrainingExample():\n",
    "    category, line = randomTrainingPair()\n",
    "    category_tensor = categoryTensor(category)\n",
    "    input_line_tensor = inputTensor(line)\n",
    "    target_line_tensor = targetTensor(line)\n",
    "    return category_tensor, input_line_tensor, target_line_tensor"
   ]
  },
  {
   "cell_type": "code",
   "execution_count": 7,
   "metadata": {},
   "outputs": [
    {
     "name": "stdout",
     "output_type": "stream",
     "text": [
      "category = German / line = Geissler\n",
      "category = Arabic / line = Guirguis\n",
      "category = Spanish / line = Mingo\n",
      "category = Irish / line = O'Doherty\n",
      "category = Irish / line = Ahearn\n",
      "category = Greek / line = Gomatos\n",
      "category = Arabic / line = Kouri\n",
      "category = Italian / line = Pagani\n",
      "category = Spanish / line = Ojeda\n",
      "category = Czech / line = Ludwig\n"
     ]
    }
   ],
   "source": [
    "for i in range(10):\n",
    "    category, line = randomTrainingPair()\n",
    "    print('category =', category, '/ line =', line)"
   ]
  },
  {
   "cell_type": "markdown",
   "metadata": {},
   "source": [
    "### Training the Network\n",
    "\n",
    "For the loss function `nn.NLLLoss` is appropriate, since the last layer of the RNN is `nn.LogSoftmax`.\n",
    "\n",
    "Each loop of training will:\n",
    "- Create input and target tensors\n",
    "- Create a zeroed initial hidden state\n",
    "- Read each letter in and\n",
    "    - Keep hidden state for next letter\n",
    "- Compare final output to target\n",
    "- Back-propagate\n",
    "- Return the output and loss"
   ]
  },
  {
   "cell_type": "code",
   "execution_count": 25,
   "metadata": {},
   "outputs": [],
   "source": [
    "criterion = nn.NLLLoss()\n",
    "lr = 0.0005 # if you set this too high, it might explode; if too low, it might not learn\n",
    "\n",
    "def train(rnn, category_tensor, input_line_tensor, target_line_tensor):\n",
    "    target_line_tensor.unsqueeze_(-1) # TODO: ???\n",
    "    hidden = rnn.initHidden()\n",
    "    \n",
    "    rnn.zero_grad()\n",
    "    \n",
    "    loss = 0\n",
    "    \n",
    "    for i in range(input_line_tensor.size(0)):\n",
    "        output, hidden = rnn(category_tensor, input_line_tensor[i], hidden)\n",
    "        l = criterion(output, target_line_tensor[i])\n",
    "        loss += l\n",
    "        \n",
    "    loss.backward()\n",
    "    \n",
    "    # add parameters' gradients to their values, multiplied by learning rate\n",
    "    for p in rnn.parameters():\n",
    "        p.data.add_(-lr, p.grad.data)\n",
    "        \n",
    "    return output, loss.item() / input_line_tensor.size(0)"
   ]
  },
  {
   "cell_type": "code",
   "execution_count": 15,
   "metadata": {},
   "outputs": [],
   "source": [
    "import time\n",
    "import math\n",
    "\n",
    "def timeSince(since):\n",
    "    now = time.time()\n",
    "    s = now - since\n",
    "    m = math.floor(s / 60)\n",
    "    s -= m * 60\n",
    "    return f'{m}m {s:.0f}s'"
   ]
  },
  {
   "cell_type": "code",
   "execution_count": 16,
   "metadata": {},
   "outputs": [
    {
     "name": "stdout",
     "output_type": "stream",
     "text": [
      "0m 10s (5000 5.0%) 2.8819\n",
      "0m 21s (10000 10.0%) 2.8509\n",
      "0m 31s (15000 15.0%) 3.0548\n",
      "0m 42s (20000 20.0%) 2.5713\n",
      "0m 52s (25000 25.0%) 3.1039\n",
      "1m 1s (30000 30.0%) 2.9984\n",
      "1m 12s (35000 35.0%) 2.4803\n",
      "1m 22s (40000 40.0%) 2.6328\n",
      "1m 32s (45000 45.0%) 2.0839\n",
      "1m 43s (50000 50.0%) 2.0518\n",
      "1m 53s (55000 55.00000000000001%) 2.4290\n",
      "2m 4s (60000 60.0%) 2.5342\n",
      "2m 14s (65000 65.0%) 2.1462\n",
      "2m 25s (70000 70.0%) 2.5053\n",
      "2m 35s (75000 75.0%) 1.8807\n",
      "2m 45s (80000 80.0%) 1.8083\n",
      "2m 56s (85000 85.0%) 2.7331\n",
      "3m 6s (90000 90.0%) 2.2380\n",
      "3m 17s (95000 95.0%) 1.9145\n",
      "3m 27s (100000 100.0%) 2.3711\n"
     ]
    }
   ],
   "source": [
    "n_hidden = 128\n",
    "rnn = RNN(n_letters, n_hidden, n_letters)\n",
    "\n",
    "n_iters = 100000\n",
    "print_every = 5000\n",
    "plot_every = 500\n",
    "\n",
    "# keep track of losses for plotting\n",
    "total_loss = 0 # reset every plot_every iters\n",
    "all_losses = []\n",
    "\n",
    "start = time.time()\n",
    "\n",
    "for iter in range(1, n_iters + 1):\n",
    "    output, loss = train(rnn, *randomTrainingExample())\n",
    "    total_loss += loss\n",
    "    \n",
    "    if iter % print_every == 0:\n",
    "        print(f'{timeSince(start)} ({iter} {iter / n_iters * 100}%) {loss:.4f}')\n",
    "        \n",
    "    if iter % plot_every == 0:\n",
    "        all_losses.append(total_loss / plot_every)\n",
    "        total_loss = 0"
   ]
  },
  {
   "cell_type": "code",
   "execution_count": 18,
   "metadata": {},
   "outputs": [
    {
     "data": {
      "text/plain": [
       "[<matplotlib.lines.Line2D at 0x7ff9cf18ecc0>]"
      ]
     },
     "execution_count": 18,
     "metadata": {},
     "output_type": "execute_result"
    },
    {
     "data": {
      "image/png": "[encoded data removed]",
      "text/plain": [
       "<Figure size 432x288 with 1 Axes>"
      ]
     },
     "metadata": {},
     "output_type": "display_data"
    }
   ],
   "source": [
    "import matplotlib.pyplot as plt\n",
    "import matplotlib.ticker as ticker\n",
    "\n",
    "%matplotlib inline\n",
    "plt.figure()\n",
    "plt.plot(all_losses)"
   ]
  },
  {
   "cell_type": "markdown",
   "metadata": {},
   "source": [
    "## Sampling the Network\n",
    "\n",
    "To sample we give the network a letter and ask what the next one is, feed that in as the next letter, and repeat until the EOS token.\n",
    "1. Create tensors for input category, starting letter, and empty hidden state\n",
    "2. Create a string output_name with the starting letter\n",
    "3. Up to a maximum output length,\n",
    "    - Feed the current letter to the network\n",
    "    - Get the next letter from highest output, and next hidden state\n",
    "    - If the letter is EOS, stop here\n",
    "    - If a regular letter, add to output_name and continue\n",
    "4. Return the final name"
   ]
  },
  {
   "cell_type": "code",
   "execution_count": 22,
   "metadata": {},
   "outputs": [
    {
     "name": "stdout",
     "output_type": "stream",
     "text": [
      "RUSSIAN:\n",
      "Rouhan\n",
      "Uanien\n",
      "Sanovov\n",
      "\n",
      "GERMAN:\n",
      "Garer\n",
      "Earer\n",
      "Rouer\n",
      "\n",
      "SPANISH:\n",
      "Sana\n",
      "Para\n",
      "Aara\n",
      "\n",
      "CHINESE:\n",
      "Can\n",
      "Han\n",
      "Ian\n"
     ]
    }
   ],
   "source": [
    "max_length = 20\n",
    "\n",
    "# sample from a category and starting letter\n",
    "def sample(category, start_letter='A'):\n",
    "    with torch.no_grad(): # no need to track history in sampling\n",
    "        category_tensor = categoryTensor(category)\n",
    "        input = inputTensor(start_letter)\n",
    "        hidden = rnn.initHidden()\n",
    "        \n",
    "        output_name = start_letter\n",
    "        \n",
    "        for i in range(max_length):\n",
    "            output, hidden = rnn(category_tensor, input[0], hidden)\n",
    "            topv, topi = output.topk(1) # topk(1) gets the index of the greatest value\n",
    "            topi = topi[0][0]\n",
    "            if topi == n_letters - 1:\n",
    "                break\n",
    "            else:\n",
    "                letter = all_letters[topi]\n",
    "                output_name += letter\n",
    "            input = inputTensor(letter)\n",
    "            \n",
    "        return output_name\n",
    "    \n",
    "# get multiple samples from one category and multiple starting letters\n",
    "def samples(category, start_letters='ABC'):\n",
    "    for start_letter in start_letters:\n",
    "        print(sample(category, start_letter))\n",
    "        \n",
    "print('RUSSIAN:')\n",
    "samples('Russian', 'RUS')\n",
    "print()\n",
    "\n",
    "print('GERMAN:')\n",
    "samples('German', 'GER')\n",
    "print()\n",
    "\n",
    "print('SPANISH:')\n",
    "samples('Spanish', 'SPA')\n",
    "print()\n",
    "\n",
    "print('CHINESE:')\n",
    "samples('Chinese', 'CHI')"
   ]
  },
  {
   "cell_type": "markdown",
   "metadata": {},
   "source": [
    "**TODO**: use start of sentence token so that sampling can be doen without choosing a start letter"
   ]
  },
  {
   "cell_type": "markdown",
   "metadata": {},
   "source": []
  },
  {
   "cell_type": "markdown",
   "metadata": {},
   "source": [
    "![](https://i.imgur.com/jzVrf7f.png)\n",
    "\n",
    "Sean Robertson: \"I added a second linear layer **o2o (after combining hidden and output) to give it more muscle to work with**. There’s also a **dropout** layer, which randomly zeros parts of its input with a given probability (here 0.1) and is usually **used to fuzz inputs to prevent overfitting**. Here we’re using it towards the end of the network to purposely add some chaos and increase sampling variety.\""
   ]
  },
  {
   "cell_type": "code",
   "execution_count": 23,
   "metadata": {},
   "outputs": [],
   "source": [
    "import torch.nn as nn\n",
    "\n",
    "class RNN(nn.Module):\n",
    "    def __init__(self, input_size, hidden_size, output_size):\n",
    "        super(RNN, self).__init__()\n",
    "        self.hidden_size = hidden_size\n",
    "        \n",
    "        self.i2h = nn.Linear(n_categories + input_size + hidden_size, hidden_size)\n",
    "        self.i2o = nn.Linear(n_categories + input_size + hidden_size, output_size)\n",
    "        self.o2o = nn.Linear(hidden_size + output_size, output_size)\n",
    "        self.dropout = nn.Dropout(0.1)\n",
    "        self.softmax = nn.LogSoftmax(dim=1)\n",
    "        \n",
    "    # NOTE: this example only works as-is in PyTorch 0.4+\n",
    "    # https://stackoverflow.com/questions/50475094/runtimeerror-addmm-argument-mat1-position-1-must-be-variable-not-torch\n",
    "    def forward(self, category, input, hidden):\n",
    "        combined_i = torch.cat((category, input, hidden), 1)\n",
    "        hidden = self.i2h(combined_i)\n",
    "        output = self.i2o(combined_i)\n",
    "        combined_o = torch.cat((hidden, output), 1)\n",
    "        output = self.o2o(combined_o)\n",
    "        output = self.dropout(output)\n",
    "        output = self.softmax(output)\n",
    "        return output, hidden\n",
    "    \n",
    "    def initHidden(self):\n",
    "        return torch.zeros(1, self.hidden_size) # TODO: why isn't this random?"
   ]
  },
  {
   "cell_type": "code",
   "execution_count": 26,
   "metadata": {},
   "outputs": [
    {
     "name": "stdout",
     "output_type": "stream",
     "text": [
      "0m 17s (5000 5.0%) 3.1483\n",
      "0m 34s (10000 10.0%) 3.0390\n",
      "0m 51s (15000 15.0%) 2.0914\n",
      "1m 8s (20000 20.0%) 2.6684\n",
      "1m 25s (25000 25.0%) 2.5847\n",
      "1m 42s (30000 30.0%) 2.3796\n",
      "1m 59s (35000 35.0%) 2.1955\n",
      "2m 16s (40000 40.0%) 2.5113\n",
      "2m 33s (45000 45.0%) 2.2793\n",
      "2m 50s (50000 50.0%) 3.0533\n",
      "3m 6s (55000 55.00000000000001%) 2.5626\n",
      "3m 23s (60000 60.0%) 2.1104\n",
      "3m 40s (65000 65.0%) 1.3357\n",
      "3m 57s (70000 70.0%) 2.0337\n",
      "4m 14s (75000 75.0%) 2.5217\n",
      "4m 31s (80000 80.0%) 2.2902\n",
      "4m 48s (85000 85.0%) 2.4396\n",
      "5m 4s (90000 90.0%) 1.2252\n",
      "5m 21s (95000 95.0%) 2.0182\n",
      "5m 38s (100000 100.0%) 2.8224\n"
     ]
    }
   ],
   "source": [
    "n_hidden = 128\n",
    "rnn = RNN(n_letters, n_hidden, n_letters)\n",
    "\n",
    "n_iters = 100000\n",
    "print_every = 5000\n",
    "plot_every = 500\n",
    "\n",
    "# keep track of losses for plotting\n",
    "total_loss = 0 # reset every plot_every iters\n",
    "all_losses = []\n",
    "\n",
    "start = time.time()\n",
    "\n",
    "for iter in range(1, n_iters + 1):\n",
    "    output, loss = train(rnn, *randomTrainingExample())\n",
    "    total_loss += loss\n",
    "    \n",
    "    if iter % print_every == 0:\n",
    "        print(f'{timeSince(start)} ({iter} {iter / n_iters * 100}%) {loss:.4f}')\n",
    "        \n",
    "    if iter % plot_every == 0:\n",
    "        all_losses.append(total_loss / plot_every)\n",
    "        total_loss = 0"
   ]
  },
  {
   "cell_type": "code",
   "execution_count": 27,
   "metadata": {},
   "outputs": [
    {
     "data": {
      "text/plain": [
       "[<matplotlib.lines.Line2D at 0x7ff9cf133a20>]"
      ]
     },
     "execution_count": 27,
     "metadata": {},
     "output_type": "execute_result"
    },
    {
     "data": {
      "image/png": "[encoded data removed]",
      "text/plain": [
       "<Figure size 432x288 with 1 Axes>"
      ]
     },
     "metadata": {},
     "output_type": "display_data"
    }
   ],
   "source": [
    "import matplotlib.pyplot as plt\n",
    "import matplotlib.ticker as ticker\n",
    "\n",
    "%matplotlib inline\n",
    "plt.figure()\n",
    "plt.plot(all_losses)"
   ]
  }
 ],
 "metadata": {
  "kernelspec": {
   "display_name": "Python 3",
   "language": "python",
   "name": "python3"
  },
  "language_info": {
   "codemirror_mode": {
    "name": "ipython",
    "version": 3
   },
   "file_extension": ".py",
   "mimetype": "text/x-python",
   "name": "python",
   "nbconvert_exporter": "python",
   "pygments_lexer": "ipython3",
   "version": "3.6.5"
  }
 },
 "nbformat": 4,
 "nbformat_minor": 2
}
